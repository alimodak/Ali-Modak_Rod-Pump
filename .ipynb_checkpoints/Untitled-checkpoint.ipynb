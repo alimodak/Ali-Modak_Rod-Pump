{
 "cells": [
  {
   "cell_type": "code",
   "execution_count": 4,
   "metadata": {},
   "outputs": [],
   "source": [
    "import pandas as pd"
   ]
  },
  {
   "cell_type": "code",
   "execution_count": 23,
   "metadata": {},
   "outputs": [],
   "source": [
    "raw_data = pd.read_csv('rodpump_failure.csv')"
   ]
  },
  {
   "cell_type": "code",
   "execution_count": 35,
   "metadata": {},
   "outputs": [
    {
     "ename": "TypeError",
     "evalue": "must be str, not int",
     "output_type": "error",
     "traceback": [
      "\u001b[0;31m---------------------------------------------------------------------------\u001b[0m",
      "\u001b[0;31mTypeError\u001b[0m                                 Traceback (most recent call last)",
      "\u001b[0;32m<ipython-input-35-b3a5d373dcae>\u001b[0m in \u001b[0;36m<module>\u001b[0;34m\u001b[0m\n\u001b[1;32m      1\u001b[0m \u001b[0;32mfor\u001b[0m \u001b[0;34m(\u001b[0m\u001b[0mcolumnName\u001b[0m\u001b[0;34m,\u001b[0m \u001b[0mcolumnData\u001b[0m\u001b[0;34m)\u001b[0m \u001b[0;32min\u001b[0m \u001b[0mraw_data\u001b[0m\u001b[0;34m.\u001b[0m\u001b[0miteritems\u001b[0m\u001b[0;34m(\u001b[0m\u001b[0;34m)\u001b[0m\u001b[0;34m:\u001b[0m\u001b[0;34m\u001b[0m\u001b[0;34m\u001b[0m\u001b[0m\n\u001b[0;32m----> 2\u001b[0;31m     \u001b[0mprint\u001b[0m\u001b[0;34m(\u001b[0m\u001b[0mcolumnName\u001b[0m \u001b[0;34m+\u001b[0m \u001b[0;34m\",\"\u001b[0m \u001b[0;34m+\u001b[0m \u001b[0mcolumnData\u001b[0m\u001b[0;34m.\u001b[0m\u001b[0munique\u001b[0m\u001b[0;34m(\u001b[0m\u001b[0;34m)\u001b[0m\u001b[0;34m.\u001b[0m\u001b[0msize\u001b[0m\u001b[0;34m)\u001b[0m\u001b[0;34m\u001b[0m\u001b[0;34m\u001b[0m\u001b[0m\n\u001b[0m",
      "\u001b[0;31mTypeError\u001b[0m: must be str, not int"
     ]
    }
   ],
   "source": [
    "for (columnName, columnData) in raw_data.iteritems():\n",
    "    print(columnName + \",\" + str(columnData.unique().size))"
   ]
  },
  {
   "cell_type": "code",
   "execution_count": 14,
   "metadata": {},
   "outputs": [
    {
     "data": {
      "text/html": [
       "<div>\n",
       "<style scoped>\n",
       "    .dataframe tbody tr th:only-of-type {\n",
       "        vertical-align: middle;\n",
       "    }\n",
       "\n",
       "    .dataframe tbody tr th {\n",
       "        vertical-align: top;\n",
       "    }\n",
       "\n",
       "    .dataframe thead th {\n",
       "        text-align: right;\n",
       "    }\n",
       "</style>\n",
       "<table border=\"1\" class=\"dataframe\">\n",
       "  <thead>\n",
       "    <tr style=\"text-align: right;\">\n",
       "      <th></th>\n",
       "      <th>roduid</th>\n",
       "      <th>UWI</th>\n",
       "      <th>NODEID</th>\n",
       "      <th>IDWELL</th>\n",
       "      <th>tbguid</th>\n",
       "      <th>lifetime_start</th>\n",
       "      <th>lifetime_end</th>\n",
       "      <th>IDRECJOBPULL</th>\n",
       "      <th>REPORTTO</th>\n",
       "      <th>FAILSTART</th>\n",
       "      <th>...</th>\n",
       "      <th>overall_max_sideload</th>\n",
       "      <th>shallow_max_sideload</th>\n",
       "      <th>max_unguided_sideload</th>\n",
       "      <th>DESANDDEGAS_TYP</th>\n",
       "      <th>CHROME_LENGTH</th>\n",
       "      <th>ENDURALLOY_LENGTH</th>\n",
       "      <th>POLY_LENGTH</th>\n",
       "      <th>NIPPLE_SET_DEPTH</th>\n",
       "      <th>pump_bore</th>\n",
       "      <th>gasanchor_od</th>\n",
       "    </tr>\n",
       "  </thead>\n",
       "  <tbody>\n",
       "    <tr>\n",
       "      <th>0</th>\n",
       "      <td>GB27GKBE51029074693667</td>\n",
       "      <td>175-58-0111</td>\n",
       "      <td>box-child-doctor</td>\n",
       "      <td>GPVO63973435661154</td>\n",
       "      <td>GB55QFGB46756147811400</td>\n",
       "      <td>00:00.0</td>\n",
       "      <td>00:00.0</td>\n",
       "      <td>FGNB86581338411987</td>\n",
       "      <td>Tubing</td>\n",
       "      <td>00:00.0</td>\n",
       "      <td>...</td>\n",
       "      <td>NaN</td>\n",
       "      <td>NaN</td>\n",
       "      <td>NaN</td>\n",
       "      <td>UNKNOWN</td>\n",
       "      <td>0.0</td>\n",
       "      <td>0.0</td>\n",
       "      <td>0.0</td>\n",
       "      <td>10024.8</td>\n",
       "      <td>1.5</td>\n",
       "      <td>NaN</td>\n",
       "    </tr>\n",
       "  </tbody>\n",
       "</table>\n",
       "<p>1 rows × 55 columns</p>\n",
       "</div>"
      ],
      "text/plain": [
       "                   roduid          UWI            NODEID              IDWELL  \\\n",
       "0  GB27GKBE51029074693667  175-58-0111  box-child-doctor  GPVO63973435661154   \n",
       "\n",
       "                   tbguid lifetime_start lifetime_end        IDRECJOBPULL  \\\n",
       "0  GB55QFGB46756147811400        00:00.0      00:00.0  FGNB86581338411987   \n",
       "\n",
       "  REPORTTO FAILSTART  ... overall_max_sideload  shallow_max_sideload  \\\n",
       "0   Tubing   00:00.0  ...                  NaN                   NaN   \n",
       "\n",
       "   max_unguided_sideload  DESANDDEGAS_TYP  CHROME_LENGTH  ENDURALLOY_LENGTH  \\\n",
       "0                    NaN          UNKNOWN            0.0                0.0   \n",
       "\n",
       "   POLY_LENGTH  NIPPLE_SET_DEPTH pump_bore  gasanchor_od  \n",
       "0          0.0           10024.8       1.5           NaN  \n",
       "\n",
       "[1 rows x 55 columns]"
      ]
     },
     "execution_count": 14,
     "metadata": {},
     "output_type": "execute_result"
    }
   ],
   "source": [
    "raw_data.head(1)"
   ]
  },
  {
   "cell_type": "code",
   "execution_count": 21,
   "metadata": {},
   "outputs": [
    {
     "data": {
      "text/plain": [
       "632"
      ]
     },
     "execution_count": 21,
     "metadata": {},
     "output_type": "execute_result"
    }
   ],
   "source": [
    "raw_data['NODEID'].unique().size"
   ]
  },
  {
   "cell_type": "code",
   "execution_count": 27,
   "metadata": {},
   "outputs": [
    {
     "data": {
      "text/plain": [
       "array(['Tubing', 'Sucker Rod Pump', nan, 'Rods', 'Liner (Casing)'],\n",
       "      dtype=object)"
      ]
     },
     "execution_count": 27,
     "metadata": {},
     "output_type": "execute_result"
    }
   ],
   "source": [
    "raw_data['REPORTTO'].unique()"
   ]
  }
 ],
 "metadata": {
  "kernelspec": {
   "display_name": "Python 3",
   "language": "python",
   "name": "python3"
  },
  "language_info": {
   "codemirror_mode": {
    "name": "ipython",
    "version": 3
   },
   "file_extension": ".py",
   "mimetype": "text/x-python",
   "name": "python",
   "nbconvert_exporter": "python",
   "pygments_lexer": "ipython3",
   "version": "3.6.9"
  }
 },
 "nbformat": 4,
 "nbformat_minor": 4
}
