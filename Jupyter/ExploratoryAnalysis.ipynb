{
 "cells": [
  {
   "cell_type": "markdown",
   "metadata": {},
   "source": [
    "# Rod Pump Group #2\n",
    "# Exploratory Data Analysis"
   ]
  },
  {
   "cell_type": "code",
   "execution_count": 1,
   "metadata": {},
   "outputs": [],
   "source": [
    "import pandas as pd\n",
    "import seaborn as sns\n",
    "%matplotlib inline\n",
    "\n",
    "raw_data = pd.read_csv('../rodpump_raw.csv')"
   ]
  },
  {
   "cell_type": "code",
   "execution_count": 2,
   "metadata": {},
   "outputs": [
    {
     "name": "stdout",
     "output_type": "stream",
     "text": [
      "roduid\n",
      "UWI\n",
      "NODEID\n",
      "IDWELL\n",
      "tbguid\n",
      "lifetime_start\n",
      "lifetime_end\n",
      "IDRECJOBPULL\n",
      "REPORTTO\n",
      "FAILSTART\n",
      "FAILURETYPE\n",
      "H2S_CONCENTRATION\n",
      "PrimarySetpoint\n",
      "SecondarySetpoint\n",
      "StrokeLength\n",
      "GrossStrokeLength\n",
      "Fillage\n",
      "YesterdaysAverageSPM\n",
      "bha_configuration\n",
      "chemgroup1_any\n",
      "chemgroup1_all\n",
      "chemgroup2_any\n",
      "chemgroup2_all\n",
      "chemgroup3_any\n",
      "chemgroup3_all\n",
      "max_unguided_dls\n",
      "dls_high_in_hole\n",
      "gas_anchor_length\n",
      "MAX_INCLINATION\n",
      "wellbore_category\n",
      "manual_scale\n",
      "packer_vs_tac\n",
      "AVG_PRESS_FLOWLINE\n",
      "AVG_PRESSURE_TUBING\n",
      "AVG_PRESSURE_CASING\n",
      "AVG_DIFFERENTIAL_PRESSURE\n",
      "AVG_OIL_VOLUME\n",
      "AVG_WATER_VOLUME\n",
      "AVG_LIQUID_VOLUME\n",
      "AVG_WATERSG\n",
      "rod_sinker_type\n",
      "rod_has_guides\n",
      "rod_make\n",
      "rod_apigrade\n",
      "ROUTE\n",
      "overall_max_sideload\n",
      "shallow_max_sideload\n",
      "max_unguided_sideload\n",
      "DESANDDEGAS_TYP\n",
      "CHROME_LENGTH\n",
      "ENDURALLOY_LENGTH\n",
      "POLY_LENGTH\n",
      "NIPPLE_SET_DEPTH\n",
      "pump_bore\n",
      "gasanchor_od\n"
     ]
    }
   ],
   "source": [
    "for column in list(raw_data):\n",
    "    print(column)"
   ]
  },
  {
   "cell_type": "markdown",
   "metadata": {},
   "source": [
    "## List rows with repeated values"
   ]
  },
  {
   "cell_type": "code",
   "execution_count": 3,
   "metadata": {},
   "outputs": [
    {
     "name": "stdout",
     "output_type": "stream",
     "text": [
      "UWI,633\n",
      "NODEID,632\n",
      "IDWELL,633\n",
      "tbguid,1815\n",
      "lifetime_start,1792\n",
      "lifetime_end,1467\n",
      "IDRECJOBPULL,1693\n",
      "REPORTTO,5\n",
      "FAILSTART,1273\n",
      "FAILURETYPE,4\n",
      "H2S_CONCENTRATION,51\n",
      "PrimarySetpoint,43\n",
      "SecondarySetpoint,18\n",
      "StrokeLength,303\n",
      "GrossStrokeLength,1485\n",
      "Fillage,1391\n",
      "YesterdaysAverageSPM,238\n",
      "bha_configuration,6\n",
      "chemgroup1_any,2\n",
      "chemgroup1_all,2\n",
      "chemgroup2_any,2\n",
      "chemgroup2_all,2\n",
      "chemgroup3_any,2\n",
      "chemgroup3_all,2\n",
      "max_unguided_dls,652\n",
      "dls_high_in_hole,533\n",
      "gas_anchor_length,282\n",
      "MAX_INCLINATION,390\n",
      "wellbore_category,5\n",
      "manual_scale,2\n",
      "packer_vs_tac,6\n",
      "AVG_PRESS_FLOWLINE,1659\n",
      "AVG_PRESSURE_TUBING,2425\n",
      "AVG_PRESSURE_CASING,2475\n",
      "AVG_DIFFERENTIAL_PRESSURE,2429\n",
      "AVG_OIL_VOLUME,2554\n",
      "AVG_WATER_VOLUME,2549\n",
      "AVG_LIQUID_VOLUME,2558\n",
      "AVG_WATERSG,78\n",
      "rod_sinker_type,4\n",
      "rod_has_guides,2\n",
      "rod_make,7\n",
      "rod_apigrade,7\n",
      "ROUTE,20\n",
      "overall_max_sideload,1680\n",
      "shallow_max_sideload,1675\n",
      "max_unguided_sideload,1662\n",
      "DESANDDEGAS_TYP,6\n",
      "CHROME_LENGTH,20\n",
      "ENDURALLOY_LENGTH,370\n",
      "POLY_LENGTH,31\n",
      "NIPPLE_SET_DEPTH,1702\n",
      "pump_bore,5\n",
      "gasanchor_od,5\n"
     ]
    }
   ],
   "source": [
    "raw_rows = raw_data.shape[0]\n",
    "for (columnName, columnData) in raw_data.iteritems():\n",
    "    mask = raw_data[columnName].notnull()\n",
    "    if (columnData[mask].unique().size < raw_rows):\n",
    "        print(columnName + \",\" + str(columnData.unique().size))"
   ]
  },
  {
   "cell_type": "markdown",
   "metadata": {},
   "source": [
    "## Identify potential categorical columns\n",
    "Potential categorical columns will be defined as any column with a small set of (n<10) frequently repeated values"
   ]
  },
  {
   "cell_type": "code",
   "execution_count": 4,
   "metadata": {},
   "outputs": [
    {
     "name": "stdout",
     "output_type": "stream",
     "text": [
      "REPORTTO\n",
      "Tubing             899\n",
      "NaN                871\n",
      "Sucker Rod Pump    612\n",
      "Rods               210\n",
      "Liner (Casing)       4\n",
      "Name: REPORTTO, dtype: int64\n",
      "\n",
      "FAILURETYPE\n",
      "Tubing             899\n",
      "NaN                875\n",
      "Sucker Rod Pump    612\n",
      "Rods               210\n",
      "Name: FAILURETYPE, dtype: int64\n",
      "\n",
      "bha_configuration\n",
      "TAC_ABOVE_NIP        914\n",
      "TAC_BELOW_NIP        777\n",
      "PACKER_DONNAN        626\n",
      "PACKER_TAC_DONNAN    193\n",
      "NaN                   46\n",
      "NOSEP_PACKER          40\n",
      "Name: bha_configuration, dtype: int64\n",
      "\n",
      "chemgroup1_any\n",
      "0    1375\n",
      "1    1221\n",
      "Name: chemgroup1_any, dtype: int64\n",
      "\n",
      "chemgroup1_all\n",
      "0    2378\n",
      "1     218\n",
      "Name: chemgroup1_all, dtype: int64\n",
      "\n",
      "chemgroup2_any\n",
      "0    1990\n",
      "1     606\n",
      "Name: chemgroup2_any, dtype: int64\n",
      "\n",
      "chemgroup2_all\n",
      "0    2372\n",
      "1     224\n",
      "Name: chemgroup2_all, dtype: int64\n",
      "\n",
      "chemgroup3_any\n",
      "0    2422\n",
      "1     174\n",
      "Name: chemgroup3_any, dtype: int64\n",
      "\n",
      "chemgroup3_all\n",
      "0    2514\n",
      "1      82\n",
      "Name: chemgroup3_all, dtype: int64\n",
      "\n",
      "wellbore_category\n",
      "Vertical       1647\n",
      "LowTangent      707\n",
      "HighTangent     182\n",
      "OffLease         55\n",
      "NaN               5\n",
      "Name: wellbore_category, dtype: int64\n",
      "\n",
      "manual_scale\n",
      "N    2250\n",
      "Y     346\n",
      "Name: manual_scale, dtype: int64\n",
      "\n",
      "packer_vs_tac\n",
      "OTHER_ANCHOR    1634\n",
      "arrowset         529\n",
      "OTHER_PACKER     271\n",
      "slimline          92\n",
      "hornet            56\n",
      "NaN               14\n",
      "Name: packer_vs_tac, dtype: int64\n",
      "\n",
      "rod_sinker_type\n",
      "SLICK_SINKER_BARS            1737\n",
      "SINKER_BARS_W_GUIDED_SUBS     548\n",
      "SUCKER_RODS_W_GUIDES          227\n",
      "UNKNOWN                        84\n",
      "Name: rod_sinker_type, dtype: int64\n",
      "\n",
      "rod_has_guides\n",
      "False    1644\n",
      "True      952\n",
      "Name: rod_has_guides, dtype: int64\n",
      "\n",
      "rod_make\n",
      "mesh enterprise portals                 1433\n",
      "strategize next-generation users        1007\n",
      "synthesize holistic partnerships         128\n",
      "incentivize vertical systems              10\n",
      "visualize leading-edge initiatives        10\n",
      "extend customized interfaces               5\n",
      "iterate bricks-and-clicks e-business       3\n",
      "Name: rod_make, dtype: int64\n",
      "\n",
      "rod_apigrade\n",
      "SpecialService    1695\n",
      "D                  678\n",
      "Unknown            129\n",
      "K                   79\n",
      "Fiberglass           9\n",
      "NaN                  5\n",
      "C                    1\n",
      "Name: rod_apigrade, dtype: int64\n",
      "\n",
      "DESANDDEGAS_TYP\n",
      "Miller LLC         1394\n",
      "UNKNOWN             761\n",
      "Sanchez PLC         205\n",
      "Bender-King         158\n",
      "West-Washington      74\n",
      "Rodriguez PLC         4\n",
      "Name: DESANDDEGAS_TYP, dtype: int64\n",
      "\n",
      "pump_bore\n",
      "1.75     1074\n",
      "1.5      1027\n",
      "1.25      254\n",
      "2         189\n",
      "Other      52\n",
      "Name: pump_bore, dtype: int64\n",
      "\n",
      "gasanchor_od\n",
      "NaN               1108\n",
      "OtherOrUnknown     952\n",
      "2.875              247\n",
      "4.5                238\n",
      "3.5                 51\n",
      "Name: gasanchor_od, dtype: int64\n",
      "\n"
     ]
    }
   ],
   "source": [
    "# List columns with a small set of frequently repeated values, and their frequencies\n",
    "raw_rows = raw_data.shape[0]\n",
    "for (columnName, columnData) in raw_data.iteritems():\n",
    "    if (columnData.unique().size <= 10):\n",
    "        print(columnName)\n",
    "        print(columnData.value_counts(ascending=False, dropna=False))\n",
    "        print('')"
   ]
  },
  {
   "cell_type": "markdown",
   "metadata": {},
   "source": [
    "#### Columns 'UWI', 'NODEID', and 'IDWELL' appear to be redundant\n",
    "Each column contains the same number of unique values, and the frequencies of the top five items are the same"
   ]
  },
  {
   "cell_type": "code",
   "execution_count": 5,
   "metadata": {},
   "outputs": [
    {
     "data": {
      "text/plain": [
       "540-51-3641    15\n",
       "352-78-9074    11\n",
       "859-66-6410    10\n",
       "427-18-9490    10\n",
       "292-26-5777    10\n",
       "               ..\n",
       "255-56-7105     1\n",
       "790-49-1299     1\n",
       "286-03-7584     1\n",
       "021-28-3780     1\n",
       "512-20-1013     1\n",
       "Name: UWI, Length: 633, dtype: int64"
      ]
     },
     "execution_count": 5,
     "metadata": {},
     "output_type": "execute_result"
    }
   ],
   "source": [
    "raw_data['UWI'].value_counts(ascending=False, dropna=False)"
   ]
  },
  {
   "cell_type": "code",
   "execution_count": 6,
   "metadata": {},
   "outputs": [
    {
     "data": {
      "text/plain": [
       "FOKS36813367797224    15\n",
       "XTDY59752018206495    11\n",
       "GKWW90620445815318    10\n",
       "EDOR20136896483790    10\n",
       "KGTI45658951785364    10\n",
       "                      ..\n",
       "SVJE58183882752026     1\n",
       "FYVN74590548879605     1\n",
       "CPTT74954618126083     1\n",
       "YOWC31575117085366     1\n",
       "OINX89179940885938     1\n",
       "Name: IDWELL, Length: 633, dtype: int64"
      ]
     },
     "execution_count": 6,
     "metadata": {},
     "output_type": "execute_result"
    }
   ],
   "source": [
    "raw_data['IDWELL'].value_counts(ascending=False, dropna=False)"
   ]
  },
  {
   "cell_type": "code",
   "execution_count": 7,
   "metadata": {},
   "outputs": [
    {
     "data": {
      "text/plain": [
       "catch-gas-bill-cost    15\n",
       "prepare-response       11\n",
       "senior-help-threat     10\n",
       "stock-according        10\n",
       "ask-until-light        10\n",
       "                       ..\n",
       "person-same             1\n",
       "heavy-cold-they         1\n",
       "pass-everything         1\n",
       "much-hair-explain       1\n",
       "nothing-beyond-less     1\n",
       "Name: NODEID, Length: 632, dtype: int64"
      ]
     },
     "execution_count": 7,
     "metadata": {},
     "output_type": "execute_result"
    }
   ],
   "source": [
    "raw_data['NODEID'].value_counts(ascending=False, dropna=False)"
   ]
  },
  {
   "cell_type": "markdown",
   "metadata": {},
   "source": [
    "#### There is no clear structure or meaning to 'lifetime_start' and 'lifetime_end'\n",
    "Only 1080 out of 2596 rows have a non-zero 'lifetime_end'"
   ]
  },
  {
   "cell_type": "code",
   "execution_count": 8,
   "metadata": {
    "scrolled": true
   },
   "outputs": [
    {
     "data": {
      "text/plain": [
       "2596"
      ]
     },
     "execution_count": 8,
     "metadata": {},
     "output_type": "execute_result"
    }
   ],
   "source": [
    "mask = (raw_data['lifetime_end'] == '00:00.0')\n",
    "raw_data.shape[0] - raw_data['lifetime_end'][mask].count()"
   ]
  },
  {
   "cell_type": "markdown",
   "metadata": {},
   "source": [
    "There are only 52 unique values for 'lifetime_end', and zero occurs most frequently in 1516 out of 2596 cases.  37:11.3 is another extremely frequent occurance.\n",
    "#### 37:11.3 corresponds to April 15, 2020."
   ]
  },
  {
   "cell_type": "code",
   "execution_count": 9,
   "metadata": {},
   "outputs": [
    {
     "name": "stdout",
     "output_type": "stream",
     "text": [
      "1467\n"
     ]
    },
    {
     "data": {
      "text/plain": [
       "4/15/20    593\n",
       "9/14/17      5\n",
       "6/1/19       4\n",
       "7/16/19      4\n",
       "9/11/17      4\n",
       "5/10/18      4\n",
       "4/2/19       4\n",
       "2/11/19      4\n",
       "3/5/20       4\n",
       "8/1/17       4\n",
       "Name: lifetime_end, dtype: int64"
      ]
     },
     "execution_count": 9,
     "metadata": {},
     "output_type": "execute_result"
    }
   ],
   "source": [
    "print(raw_data['lifetime_end'].unique().size)\n",
    "raw_data['lifetime_end'].value_counts(ascending=False, dropna=False).head(10)"
   ]
  },
  {
   "cell_type": "markdown",
   "metadata": {},
   "source": [
    "In 298 cases, 'lifetime_end' is a smaller value than 'lifetime_start'"
   ]
  },
  {
   "cell_type": "code",
   "execution_count": 10,
   "metadata": {
    "scrolled": true
   },
   "outputs": [
    {
     "data": {
      "text/plain": [
       "1270"
      ]
     },
     "execution_count": 10,
     "metadata": {},
     "output_type": "execute_result"
    }
   ],
   "source": [
    "raw_data['lifetime_start'][raw_data['lifetime_start'] > raw_data['lifetime_end']].count()"
   ]
  },
  {
   "cell_type": "markdown",
   "metadata": {},
   "source": [
    "#### There is some correlation between 'FAILURETYPE', 'REPORTTO' and 'lifetime_end'\n",
    "'FAILURETYPE' and 'REPORTTO' appear to be essentially redundant.  We will use 'REPORTTO' in our analysis because it includes the additional 'Linear (Casting)' field."
   ]
  },
  {
   "cell_type": "code",
   "execution_count": 11,
   "metadata": {},
   "outputs": [
    {
     "data": {
      "text/plain": [
       "Tubing             899\n",
       "NaN                875\n",
       "Sucker Rod Pump    612\n",
       "Rods               210\n",
       "Name: FAILURETYPE, dtype: int64"
      ]
     },
     "execution_count": 11,
     "metadata": {},
     "output_type": "execute_result"
    }
   ],
   "source": [
    "raw_data['FAILURETYPE'].value_counts(ascending=False, dropna=False)"
   ]
  },
  {
   "cell_type": "code",
   "execution_count": 12,
   "metadata": {},
   "outputs": [
    {
     "data": {
      "text/plain": [
       "Tubing             899\n",
       "NaN                871\n",
       "Sucker Rod Pump    612\n",
       "Rods               210\n",
       "Liner (Casing)       4\n",
       "Name: REPORTTO, dtype: int64"
      ]
     },
     "execution_count": 12,
     "metadata": {},
     "output_type": "execute_result"
    }
   ],
   "source": [
    "raw_data['REPORTTO'].value_counts(ascending=False, dropna=False)"
   ]
  },
  {
   "cell_type": "markdown",
   "metadata": {},
   "source": [
    "In 574 out of 591 occurances of '37:11.3' in 'lifetime_end', 'FAILURETYPE' is null."
   ]
  },
  {
   "cell_type": "code",
   "execution_count": 13,
   "metadata": {
    "scrolled": true
   },
   "outputs": [
    {
     "data": {
      "text/plain": [
       "0"
      ]
     },
     "execution_count": 13,
     "metadata": {},
     "output_type": "execute_result"
    }
   ],
   "source": [
    "mask = (raw_data['lifetime_end'] == '37:11.3') & (raw_data['FAILURETYPE'].isnull())\n",
    "raw_data['lifetime_end'][mask].size"
   ]
  },
  {
   "cell_type": "markdown",
   "metadata": {},
   "source": [
    "In 38 out of 263 occurances of '30:00.0' in 'lifetime_end', 'FAILURETYPE' is null."
   ]
  },
  {
   "cell_type": "code",
   "execution_count": 14,
   "metadata": {},
   "outputs": [
    {
     "data": {
      "text/plain": [
       "0"
      ]
     },
     "execution_count": 14,
     "metadata": {},
     "output_type": "execute_result"
    }
   ],
   "source": [
    "mask = (raw_data['lifetime_end'] == '30:00.0') & (raw_data['FAILURETYPE'].isnull())\n",
    "raw_data['lifetime_end'][mask].size"
   ]
  },
  {
   "cell_type": "markdown",
   "metadata": {},
   "source": [
    "#### There is also correlation between 'IDRECJOBPULL' and 'FAILURETYPE'\n",
    "For all 871 occurances of 'IDRECJOBPULL' = 'WJDB83445325478746', 'FAILURETYPE' is null."
   ]
  },
  {
   "cell_type": "code",
   "execution_count": 15,
   "metadata": {},
   "outputs": [
    {
     "data": {
      "text/plain": [
       "871"
      ]
     },
     "execution_count": 15,
     "metadata": {},
     "output_type": "execute_result"
    }
   ],
   "source": [
    "mask = (raw_data['IDRECJOBPULL'] == 'WJDB83445325478746') & (raw_data['FAILURETYPE'].isnull())\n",
    "raw_data['lifetime_end'][mask].size"
   ]
  },
  {
   "cell_type": "code",
   "execution_count": 16,
   "metadata": {
    "scrolled": false
   },
   "outputs": [
    {
     "data": {
      "text/plain": [
       "0"
      ]
     },
     "execution_count": 16,
     "metadata": {},
     "output_type": "execute_result"
    }
   ],
   "source": [
    "mask = (raw_data['IDRECJOBPULL'] == 'WJDB83445325478746') & ~(raw_data['FAILURETYPE'].isnull())\n",
    "raw_data['lifetime_end'][mask].size"
   ]
  },
  {
   "cell_type": "markdown",
   "metadata": {},
   "source": [
    "#### Values of 'FAILSTART' also correlate with 'IDRECJOBPULL' and 'FAILURETYPE'\n",
    "Rows with NaN values in 'FAILSTART' have 'IDRECJOBPULL' = 'WJDB83445325478746' and 'FAILURETYPE' = NaN."
   ]
  },
  {
   "cell_type": "code",
   "execution_count": 17,
   "metadata": {},
   "outputs": [
    {
     "data": {
      "text/plain": [
       "NaN         871\n",
       "3/1/13        6\n",
       "12/6/18       5\n",
       "5/1/17        5\n",
       "8/1/12        5\n",
       "           ... \n",
       "8/12/14       1\n",
       "1/9/07        1\n",
       "4/23/18       1\n",
       "11/24/14      1\n",
       "1/21/15       1\n",
       "Name: FAILSTART, Length: 1273, dtype: int64"
      ]
     },
     "execution_count": 17,
     "metadata": {},
     "output_type": "execute_result"
    }
   ],
   "source": [
    "raw_data['FAILSTART'].value_counts(ascending=False, dropna=False)"
   ]
  },
  {
   "cell_type": "code",
   "execution_count": 18,
   "metadata": {},
   "outputs": [
    {
     "data": {
      "text/plain": [
       "871"
      ]
     },
     "execution_count": 18,
     "metadata": {},
     "output_type": "execute_result"
    }
   ],
   "source": [
    "mask = (raw_data['IDRECJOBPULL'] == 'WJDB83445325478746') & (raw_data['FAILSTART'].isnull())\n",
    "raw_data['lifetime_end'][mask].size"
   ]
  },
  {
   "cell_type": "markdown",
   "metadata": {},
   "source": [
    "### Analyze potential quantitative variables"
   ]
  },
  {
   "cell_type": "code",
   "execution_count": 19,
   "metadata": {},
   "outputs": [
    {
     "name": "stdout",
     "output_type": "stream",
     "text": [
      "Column name: H2S_CONCENTRATION\n",
      "(Min,Mean,Max) = (0.0,10.201564714946072,16500.0)\n",
      "Count unique = 51\n",
      "\n",
      "Column name: AVG_PRESSURE_CASING\n",
      "(Min,Mean,Max) = (0.0,115.77554690133648,2322.5)\n",
      "Count unique = 2475\n",
      "\n",
      "Column name: AVG_PRESS_FLOWLINE\n",
      "(Min,Mean,Max) = (0.337778,57.97728262793498,247.787692)\n",
      "Count unique = 1659\n",
      "\n",
      "Column name: AVG_WATERSG\n",
      "(Min,Mean,Max) = (1.04,1.0725440943905071,1.2)\n",
      "Count unique = 78\n",
      "\n",
      "Column name: max_unguided_dls\n",
      "(Min,Mean,Max) = (0.0,2.7283300922964275,92.34)\n",
      "Count unique = 652\n",
      "\n",
      "Column name: MAX_INCLINATION\n",
      "(Min,Mean,Max) = (0.0,4.690494699646643,53.4)\n",
      "Count unique = 390\n",
      "\n",
      "Column name: SecondarySetpoint\n",
      "(Min,Mean,Max) = (0.0,57.261142498459165,100.0)\n",
      "Count unique = 18\n",
      "60.000000    1700\n",
      "65.000000     606\n",
      "0.000000      173\n",
      "50.000000      32\n",
      "70.000000      23\n",
      "61.000000      11\n",
      "66.000000      10\n",
      "62.000000      10\n",
      "55.000000       7\n",
      "64.000000       5\n",
      "75.000000       5\n",
      "63.000000       5\n",
      "90.000000       3\n",
      "59.000000       2\n",
      "40.925926       1\n",
      "Name: SecondarySetpoint, dtype: int64\n",
      "\n",
      "Column name: AVG_DIFFERENTIAL_PRESSURE\n",
      "(Min,Mean,Max) = (-987.2804,30.322849355232098,4423.515238)\n",
      "Count unique = 2429\n",
      "\n",
      "Column name: StrokeLength\n",
      "(Min,Mean,Max) = (0.0,148.3651330833937,336.0)\n",
      "Count unique = 303\n",
      "\n",
      "Column name: overall_max_sideload\n",
      "(Min,Mean,Max) = (0.0,194.71311990686846,1351.03)\n",
      "Count unique = 1680\n",
      "\n",
      "Column name: PrimarySetpoint\n",
      "(Min,Mean,Max) = (0.0,74.60398379198767,91.0)\n",
      "Count unique = 43\n",
      "75.0    1606\n",
      "80.0     474\n",
      "70.0     230\n",
      "76.0      75\n",
      "65.0      39\n",
      "50.0      32\n",
      "72.0      22\n",
      "85.0      20\n",
      "71.0      13\n",
      "60.0      13\n",
      "0.0       10\n",
      "77.0      10\n",
      "73.0       6\n",
      "78.0       6\n",
      "69.0       4\n",
      "Name: PrimarySetpoint, dtype: int64\n",
      "\n",
      "Column name: AVG_PRESSURE_TUBING\n",
      "(Min,Mean,Max) = (0.0,86.22190806579985,1484.651988)\n",
      "Count unique = 2425\n",
      "\n",
      "Column name: Fillage\n",
      "(Min,Mean,Max) = (0.0,81.7240878503347,655.2999877999999)\n",
      "Count unique = 1391\n",
      "\n",
      "Column name: AVG_WATER_VOLUME\n",
      "(Min,Mean,Max) = (0.0,41.742471306827,1066.565759)\n",
      "Count unique = 2549\n",
      "\n",
      "Column name: dls_high_in_hole\n",
      "(Min,Mean,Max) = (0.0,2.4831614633381776,92.34)\n",
      "Count unique = 533\n",
      "\n",
      "Column name: GrossStrokeLength\n",
      "(Min,Mean,Max) = (0.0,130.68417953402,655.0)\n",
      "Count unique = 1485\n",
      "\n",
      "Column name: ROUTE\n",
      "(Min,Mean,Max) = (867,883.4241140215717,905)\n",
      "Count unique = 20\n",
      "886    218\n",
      "867    200\n",
      "875    193\n",
      "872    180\n",
      "902    175\n",
      "874    173\n",
      "885    161\n",
      "883    158\n",
      "871    151\n",
      "882    142\n",
      "901    118\n",
      "900    114\n",
      "881    106\n",
      "884     96\n",
      "905     95\n",
      "Name: ROUTE, dtype: int64\n",
      "\n",
      "Column name: shallow_max_sideload\n",
      "(Min,Mean,Max) = (0.0,182.61868957483983,1351.03)\n",
      "Count unique = 1675\n",
      "\n",
      "Column name: POLY_LENGTH\n",
      "(Min,Mean,Max) = (0.0,24.095473805855164,3389.36)\n",
      "Count unique = 31\n",
      "0.00       2556\n",
      "1478.26       2\n",
      "757.12        2\n",
      "1017.62       2\n",
      "2495.69       2\n",
      "1565.12       2\n",
      "1580.93       2\n",
      "1515.00       2\n",
      "527.95        2\n",
      "1167.96       2\n",
      "1583.82       2\n",
      "1517.42       1\n",
      "2506.12       1\n",
      "3389.36       1\n",
      "1664.43       1\n",
      "Name: POLY_LENGTH, dtype: int64\n",
      "\n",
      "Column name: gas_anchor_length\n",
      "(Min,Mean,Max) = (0.0,17.290327932098766,45.33)\n",
      "Count unique = 282\n",
      "\n",
      "Column name: ENDURALLOY_LENGTH\n",
      "(Min,Mean,Max) = (0.0,48.13276194144838,1559.44)\n",
      "Count unique = 370\n",
      "\n",
      "Column name: max_unguided_sideload\n",
      "(Min,Mean,Max) = (0.0,166.24235294117648,1351.03)\n",
      "Count unique = 1662\n",
      "\n",
      "Column name: CHROME_LENGTH\n",
      "(Min,Mean,Max) = (0.0,7.152157164869029,1679.46)\n",
      "Count unique = 20\n",
      "0.00       2574\n",
      "993.24        2\n",
      "830.89        2\n",
      "1066.11       2\n",
      "901.58        1\n",
      "504.89        1\n",
      "332.56        1\n",
      "831.54        1\n",
      "1182.93       1\n",
      "1025.67       1\n",
      "496.08        1\n",
      "1679.46       1\n",
      "899.02        1\n",
      "128.13        1\n",
      "789.50        1\n",
      "Name: CHROME_LENGTH, dtype: int64\n",
      "\n",
      "Column name: YesterdaysAverageSPM\n",
      "(Min,Mean,Max) = (0.0,5.426528778330959,7.6999998089999995)\n",
      "Count unique = 238\n",
      "\n",
      "Column name: NIPPLE_SET_DEPTH\n",
      "(Min,Mean,Max) = (4066.2,9845.33754372328,12069.6)\n",
      "Count unique = 1702\n",
      "\n",
      "Column name: AVG_OIL_VOLUME\n",
      "(Min,Mean,Max) = (0.0,82.41862183591932,516.2194549999999)\n",
      "Count unique = 2554\n",
      "\n",
      "Column name: AVG_LIQUID_VOLUME\n",
      "(Min,Mean,Max) = (0.0,124.43945381497284,1582.785214)\n",
      "Count unique = 2558\n",
      "\n"
     ]
    }
   ],
   "source": [
    "for targetColumn in {'H2S_CONCENTRATION','PrimarySetpoint','SecondarySetpoint','StrokeLength','GrossStrokeLength','Fillage','YesterdaysAverageSPM','max_unguided_dls','dls_high_in_hole','gas_anchor_length','MAX_INCLINATION','AVG_PRESS_FLOWLINE','AVG_PRESSURE_TUBING','AVG_PRESSURE_CASING','AVG_DIFFERENTIAL_PRESSURE','AVG_OIL_VOLUME','AVG_WATER_VOLUME','AVG_LIQUID_VOLUME','AVG_WATERSG','ROUTE','overall_max_sideload','shallow_max_sideload','max_unguided_sideload','CHROME_LENGTH','ENDURALLOY_LENGTH','POLY_LENGTH','NIPPLE_SET_DEPTH'}:\n",
    "    print(\"Column name: \" + targetColumn)\n",
    "    print(\"(Min,Mean,Max) = (\" + str(raw_data[targetColumn].min()) + \",\" + str(raw_data[targetColumn].mean()) + \",\" + str(raw_data[targetColumn].max()) + \")\")\n",
    "    count_unique = raw_data[targetColumn].unique().size\n",
    "    print(\"Count unique = \" + str(count_unique))\n",
    "    if (count_unique < 50):\n",
    "          print(raw_data[targetColumn].value_counts(ascending=False, dropna=False).head(15))\n",
    "    print(\"\")"
   ]
  },
  {
   "cell_type": "markdown",
   "metadata": {},
   "source": [
    "#### There is some correlation between 'MAX_INCLINATION' and 'GrossStrokeLenth'"
   ]
  },
  {
   "cell_type": "code",
   "execution_count": 20,
   "metadata": {
    "scrolled": true
   },
   "outputs": [
    {
     "data": {
      "text/html": [
       "<div>\n",
       "<style scoped>\n",
       "    .dataframe tbody tr th:only-of-type {\n",
       "        vertical-align: middle;\n",
       "    }\n",
       "\n",
       "    .dataframe tbody tr th {\n",
       "        vertical-align: top;\n",
       "    }\n",
       "\n",
       "    .dataframe thead th {\n",
       "        text-align: right;\n",
       "    }\n",
       "</style>\n",
       "<table border=\"1\" class=\"dataframe\">\n",
       "  <thead>\n",
       "    <tr style=\"text-align: right;\">\n",
       "      <th></th>\n",
       "      <th>MAX_INCLINATION</th>\n",
       "      <th>GrossStrokeLength</th>\n",
       "    </tr>\n",
       "  </thead>\n",
       "  <tbody>\n",
       "    <tr>\n",
       "      <th>MAX_INCLINATION</th>\n",
       "      <td>1.000000</td>\n",
       "      <td>0.304075</td>\n",
       "    </tr>\n",
       "    <tr>\n",
       "      <th>GrossStrokeLength</th>\n",
       "      <td>0.304075</td>\n",
       "      <td>1.000000</td>\n",
       "    </tr>\n",
       "  </tbody>\n",
       "</table>\n",
       "</div>"
      ],
      "text/plain": [
       "                   MAX_INCLINATION  GrossStrokeLength\n",
       "MAX_INCLINATION           1.000000           0.304075\n",
       "GrossStrokeLength         0.304075           1.000000"
      ]
     },
     "execution_count": 20,
     "metadata": {},
     "output_type": "execute_result"
    }
   ],
   "source": [
    "raw_data[['MAX_INCLINATION','GrossStrokeLength']].corr()"
   ]
  },
  {
   "cell_type": "markdown",
   "metadata": {},
   "source": [
    "#### There is significant correlation within the 'sideload' derivatives and with 'rod_has_guides'"
   ]
  },
  {
   "cell_type": "code",
   "execution_count": 21,
   "metadata": {},
   "outputs": [
    {
     "data": {
      "text/html": [
       "<div>\n",
       "<style scoped>\n",
       "    .dataframe tbody tr th:only-of-type {\n",
       "        vertical-align: middle;\n",
       "    }\n",
       "\n",
       "    .dataframe tbody tr th {\n",
       "        vertical-align: top;\n",
       "    }\n",
       "\n",
       "    .dataframe thead th {\n",
       "        text-align: right;\n",
       "    }\n",
       "</style>\n",
       "<table border=\"1\" class=\"dataframe\">\n",
       "  <thead>\n",
       "    <tr style=\"text-align: right;\">\n",
       "      <th></th>\n",
       "      <th>overall_max_sideload</th>\n",
       "      <th>shallow_max_sideload</th>\n",
       "      <th>max_unguided_sideload</th>\n",
       "      <th>rod_has_guides</th>\n",
       "    </tr>\n",
       "  </thead>\n",
       "  <tbody>\n",
       "    <tr>\n",
       "      <th>overall_max_sideload</th>\n",
       "      <td>1.000000</td>\n",
       "      <td>0.970676</td>\n",
       "      <td>0.833359</td>\n",
       "      <td>0.344645</td>\n",
       "    </tr>\n",
       "    <tr>\n",
       "      <th>shallow_max_sideload</th>\n",
       "      <td>0.970676</td>\n",
       "      <td>1.000000</td>\n",
       "      <td>0.811716</td>\n",
       "      <td>0.328094</td>\n",
       "    </tr>\n",
       "    <tr>\n",
       "      <th>max_unguided_sideload</th>\n",
       "      <td>0.833359</td>\n",
       "      <td>0.811716</td>\n",
       "      <td>1.000000</td>\n",
       "      <td>0.059613</td>\n",
       "    </tr>\n",
       "    <tr>\n",
       "      <th>rod_has_guides</th>\n",
       "      <td>0.344645</td>\n",
       "      <td>0.328094</td>\n",
       "      <td>0.059613</td>\n",
       "      <td>1.000000</td>\n",
       "    </tr>\n",
       "  </tbody>\n",
       "</table>\n",
       "</div>"
      ],
      "text/plain": [
       "                       overall_max_sideload  shallow_max_sideload  \\\n",
       "overall_max_sideload               1.000000              0.970676   \n",
       "shallow_max_sideload               0.970676              1.000000   \n",
       "max_unguided_sideload              0.833359              0.811716   \n",
       "rod_has_guides                     0.344645              0.328094   \n",
       "\n",
       "                       max_unguided_sideload  rod_has_guides  \n",
       "overall_max_sideload                0.833359        0.344645  \n",
       "shallow_max_sideload                0.811716        0.328094  \n",
       "max_unguided_sideload               1.000000        0.059613  \n",
       "rod_has_guides                      0.059613        1.000000  "
      ]
     },
     "execution_count": 21,
     "metadata": {},
     "output_type": "execute_result"
    }
   ],
   "source": [
    "raw_data[['overall_max_sideload','shallow_max_sideload','max_unguided_sideload','rod_has_guides']].corr()"
   ]
  },
  {
   "cell_type": "markdown",
   "metadata": {},
   "source": [
    "There are five cases where the max unguided sideload is greater than either overall max sideload or shallow max sideload, and the rod does not have guides.  Three out of these five have failed."
   ]
  },
  {
   "cell_type": "code",
   "execution_count": 22,
   "metadata": {},
   "outputs": [
    {
     "data": {
      "text/html": [
       "<div>\n",
       "<style scoped>\n",
       "    .dataframe tbody tr th:only-of-type {\n",
       "        vertical-align: middle;\n",
       "    }\n",
       "\n",
       "    .dataframe tbody tr th {\n",
       "        vertical-align: top;\n",
       "    }\n",
       "\n",
       "    .dataframe thead th {\n",
       "        text-align: right;\n",
       "    }\n",
       "</style>\n",
       "<table border=\"1\" class=\"dataframe\">\n",
       "  <thead>\n",
       "    <tr style=\"text-align: right;\">\n",
       "      <th></th>\n",
       "      <th>roduid</th>\n",
       "      <th>UWI</th>\n",
       "      <th>NODEID</th>\n",
       "      <th>IDWELL</th>\n",
       "      <th>tbguid</th>\n",
       "      <th>lifetime_start</th>\n",
       "      <th>lifetime_end</th>\n",
       "      <th>IDRECJOBPULL</th>\n",
       "      <th>REPORTTO</th>\n",
       "      <th>FAILSTART</th>\n",
       "      <th>...</th>\n",
       "      <th>overall_max_sideload</th>\n",
       "      <th>shallow_max_sideload</th>\n",
       "      <th>max_unguided_sideload</th>\n",
       "      <th>DESANDDEGAS_TYP</th>\n",
       "      <th>CHROME_LENGTH</th>\n",
       "      <th>ENDURALLOY_LENGTH</th>\n",
       "      <th>POLY_LENGTH</th>\n",
       "      <th>NIPPLE_SET_DEPTH</th>\n",
       "      <th>pump_bore</th>\n",
       "      <th>gasanchor_od</th>\n",
       "    </tr>\n",
       "  </thead>\n",
       "  <tbody>\n",
       "    <tr>\n",
       "      <th>287</th>\n",
       "      <td>GB24TAFQ54821960591047</td>\n",
       "      <td>121-78-4988</td>\n",
       "      <td>room-last-within</td>\n",
       "      <td>LDJE37247757884478</td>\n",
       "      <td>GB87KVVK33849452527539</td>\n",
       "      <td>1/16/15</td>\n",
       "      <td>9/23/15</td>\n",
       "      <td>MYXJ15086636721414</td>\n",
       "      <td>Tubing</td>\n",
       "      <td>9/13/15</td>\n",
       "      <td>...</td>\n",
       "      <td>345.33</td>\n",
       "      <td>345.33</td>\n",
       "      <td>7.70</td>\n",
       "      <td>Miller LLC</td>\n",
       "      <td>0.0</td>\n",
       "      <td>0.00</td>\n",
       "      <td>0.0</td>\n",
       "      <td>9794.4</td>\n",
       "      <td>1.75</td>\n",
       "      <td>NaN</td>\n",
       "    </tr>\n",
       "    <tr>\n",
       "      <th>542</th>\n",
       "      <td>GB35AQUB80942352555022</td>\n",
       "      <td>207-01-3041</td>\n",
       "      <td>ready-rather-camera</td>\n",
       "      <td>YHRJ80622738388627</td>\n",
       "      <td>GB94GJFF78939763421069</td>\n",
       "      <td>5/4/16</td>\n",
       "      <td>8/9/16</td>\n",
       "      <td>WJDB83445325478746</td>\n",
       "      <td>NaN</td>\n",
       "      <td>NaN</td>\n",
       "      <td>...</td>\n",
       "      <td>124.19</td>\n",
       "      <td>112.29</td>\n",
       "      <td>3.09</td>\n",
       "      <td>Miller LLC</td>\n",
       "      <td>0.0</td>\n",
       "      <td>0.00</td>\n",
       "      <td>0.0</td>\n",
       "      <td>9502.2</td>\n",
       "      <td>1.75</td>\n",
       "      <td>NaN</td>\n",
       "    </tr>\n",
       "    <tr>\n",
       "      <th>1390</th>\n",
       "      <td>GB81GLWA06155617601586</td>\n",
       "      <td>480-46-7415</td>\n",
       "      <td>can-be-part-money</td>\n",
       "      <td>JUYA22128643062093</td>\n",
       "      <td>GB92YHND30694442051946</td>\n",
       "      <td>3/12/15</td>\n",
       "      <td>7/14/15</td>\n",
       "      <td>WZPX94370985238597</td>\n",
       "      <td>Tubing</td>\n",
       "      <td>6/25/15</td>\n",
       "      <td>...</td>\n",
       "      <td>229.09</td>\n",
       "      <td>229.09</td>\n",
       "      <td>12.33</td>\n",
       "      <td>UNKNOWN</td>\n",
       "      <td>0.0</td>\n",
       "      <td>0.00</td>\n",
       "      <td>0.0</td>\n",
       "      <td>9997.4</td>\n",
       "      <td>1.5</td>\n",
       "      <td>NaN</td>\n",
       "    </tr>\n",
       "    <tr>\n",
       "      <th>1518</th>\n",
       "      <td>GB86RWVS33933117555905</td>\n",
       "      <td>525-71-8998</td>\n",
       "      <td>there-place-school</td>\n",
       "      <td>AUVF72665292144382</td>\n",
       "      <td>GB77YGZC10630744551715</td>\n",
       "      <td>11/9/19</td>\n",
       "      <td>4/15/20</td>\n",
       "      <td>WJDB83445325478746</td>\n",
       "      <td>NaN</td>\n",
       "      <td>NaN</td>\n",
       "      <td>...</td>\n",
       "      <td>109.08</td>\n",
       "      <td>109.08</td>\n",
       "      <td>0.00</td>\n",
       "      <td>Miller LLC</td>\n",
       "      <td>0.0</td>\n",
       "      <td>0.00</td>\n",
       "      <td>0.0</td>\n",
       "      <td>9783.6</td>\n",
       "      <td>1.5</td>\n",
       "      <td>4.5</td>\n",
       "    </tr>\n",
       "    <tr>\n",
       "      <th>2053</th>\n",
       "      <td>GB46CIWB55366663844735</td>\n",
       "      <td>703-17-3023</td>\n",
       "      <td>drug-yeah</td>\n",
       "      <td>MOWF37867415064285</td>\n",
       "      <td>GB83ZFCY47507370910409</td>\n",
       "      <td>11/14/17</td>\n",
       "      <td>3/5/20</td>\n",
       "      <td>UDVB65148573611157</td>\n",
       "      <td>Rods</td>\n",
       "      <td>1/8/20</td>\n",
       "      <td>...</td>\n",
       "      <td>212.18</td>\n",
       "      <td>212.18</td>\n",
       "      <td>146.18</td>\n",
       "      <td>West-Washington</td>\n",
       "      <td>0.0</td>\n",
       "      <td>124.59</td>\n",
       "      <td>0.0</td>\n",
       "      <td>9610.4</td>\n",
       "      <td>1.75</td>\n",
       "      <td>NaN</td>\n",
       "    </tr>\n",
       "  </tbody>\n",
       "</table>\n",
       "<p>5 rows × 55 columns</p>\n",
       "</div>"
      ],
      "text/plain": [
       "                      roduid          UWI               NODEID  \\\n",
       "287   GB24TAFQ54821960591047  121-78-4988     room-last-within   \n",
       "542   GB35AQUB80942352555022  207-01-3041  ready-rather-camera   \n",
       "1390  GB81GLWA06155617601586  480-46-7415    can-be-part-money   \n",
       "1518  GB86RWVS33933117555905  525-71-8998   there-place-school   \n",
       "2053  GB46CIWB55366663844735  703-17-3023            drug-yeah   \n",
       "\n",
       "                  IDWELL                  tbguid lifetime_start lifetime_end  \\\n",
       "287   LDJE37247757884478  GB87KVVK33849452527539        1/16/15      9/23/15   \n",
       "542   YHRJ80622738388627  GB94GJFF78939763421069         5/4/16       8/9/16   \n",
       "1390  JUYA22128643062093  GB92YHND30694442051946        3/12/15      7/14/15   \n",
       "1518  AUVF72665292144382  GB77YGZC10630744551715        11/9/19      4/15/20   \n",
       "2053  MOWF37867415064285  GB83ZFCY47507370910409       11/14/17       3/5/20   \n",
       "\n",
       "            IDRECJOBPULL REPORTTO FAILSTART  ... overall_max_sideload  \\\n",
       "287   MYXJ15086636721414   Tubing   9/13/15  ...               345.33   \n",
       "542   WJDB83445325478746      NaN       NaN  ...               124.19   \n",
       "1390  WZPX94370985238597   Tubing   6/25/15  ...               229.09   \n",
       "1518  WJDB83445325478746      NaN       NaN  ...               109.08   \n",
       "2053  UDVB65148573611157     Rods    1/8/20  ...               212.18   \n",
       "\n",
       "      shallow_max_sideload  max_unguided_sideload  DESANDDEGAS_TYP  \\\n",
       "287                 345.33                   7.70       Miller LLC   \n",
       "542                 112.29                   3.09       Miller LLC   \n",
       "1390                229.09                  12.33          UNKNOWN   \n",
       "1518                109.08                   0.00       Miller LLC   \n",
       "2053                212.18                 146.18  West-Washington   \n",
       "\n",
       "      CHROME_LENGTH  ENDURALLOY_LENGTH  POLY_LENGTH  NIPPLE_SET_DEPTH  \\\n",
       "287             0.0               0.00          0.0            9794.4   \n",
       "542             0.0               0.00          0.0            9502.2   \n",
       "1390            0.0               0.00          0.0            9997.4   \n",
       "1518            0.0               0.00          0.0            9783.6   \n",
       "2053            0.0             124.59          0.0            9610.4   \n",
       "\n",
       "     pump_bore  gasanchor_od  \n",
       "287       1.75           NaN  \n",
       "542       1.75           NaN  \n",
       "1390       1.5           NaN  \n",
       "1518       1.5           4.5  \n",
       "2053      1.75           NaN  \n",
       "\n",
       "[5 rows x 55 columns]"
      ]
     },
     "execution_count": 22,
     "metadata": {},
     "output_type": "execute_result"
    }
   ],
   "source": [
    "mask = ((raw_data['overall_max_sideload'] > raw_data['max_unguided_sideload']) | (raw_data['shallow_max_sideload'] > raw_data['max_unguided_sideload'])) & (raw_data['rod_has_guides'] == False)\n",
    "raw_data[mask]"
   ]
  },
  {
   "cell_type": "markdown",
   "metadata": {},
   "source": [
    "### Identify other potentially significant variables\n",
    "We believe 'rod_make' contains alias' for rod pump manufacturers"
   ]
  },
  {
   "cell_type": "code",
   "execution_count": 23,
   "metadata": {},
   "outputs": [
    {
     "name": "stdout",
     "output_type": "stream",
     "text": [
      "7 unique values\n"
     ]
    },
    {
     "data": {
      "text/plain": [
       "mesh enterprise portals                 1433\n",
       "strategize next-generation users        1007\n",
       "synthesize holistic partnerships         128\n",
       "incentivize vertical systems              10\n",
       "visualize leading-edge initiatives        10\n",
       "extend customized interfaces               5\n",
       "iterate bricks-and-clicks e-business       3\n",
       "Name: rod_make, dtype: int64"
      ]
     },
     "execution_count": 23,
     "metadata": {},
     "output_type": "execute_result"
    }
   ],
   "source": [
    "print(str(raw_data['rod_make'].unique().size) + ' unique values')\n",
    "raw_data['rod_make'].value_counts(ascending=False, dropna=False)"
   ]
  },
  {
   "cell_type": "code",
   "execution_count": 24,
   "metadata": {},
   "outputs": [
    {
     "name": "stdout",
     "output_type": "stream",
     "text": [
      "7 unique values\n"
     ]
    },
    {
     "data": {
      "text/plain": [
       "SpecialService    1695\n",
       "D                  678\n",
       "Unknown            129\n",
       "K                   79\n",
       "Fiberglass           9\n",
       "NaN                  5\n",
       "C                    1\n",
       "Name: rod_apigrade, dtype: int64"
      ]
     },
     "execution_count": 24,
     "metadata": {},
     "output_type": "execute_result"
    }
   ],
   "source": [
    "print(str(raw_data['rod_apigrade'].unique().size) + ' unique values')\n",
    "raw_data['rod_apigrade'].value_counts(ascending=False, dropna=False)"
   ]
  },
  {
   "cell_type": "markdown",
   "metadata": {},
   "source": [
    "#### Not all manufacturers produce rod pumps of every api_grade\n",
    "Strategize, mesh, and synthesize are the biggest players in the market"
   ]
  },
  {
   "cell_type": "code",
   "execution_count": 25,
   "metadata": {},
   "outputs": [
    {
     "name": "stdout",
     "output_type": "stream",
     "text": [
      "Manufacturer: mesh enterprise portals\n",
      "SpecialService    1254\n",
      "D                  175\n",
      "Fiberglass           3\n",
      "C                    1\n",
      "Name: rod_apigrade, dtype: int64\n",
      "\n",
      "Manufacturer: synthesize holistic partnerships\n",
      "Unknown    128\n",
      "Name: rod_apigrade, dtype: int64\n",
      "\n",
      "Manufacturer: strategize next-generation users\n",
      "D                 499\n",
      "SpecialService    431\n",
      "K                  77\n",
      "Name: rod_apigrade, dtype: int64\n",
      "\n",
      "Manufacturer: visualize leading-edge initiatives\n",
      "Fiberglass        6\n",
      "D                 2\n",
      "SpecialService    1\n",
      "Unknown           1\n",
      "Name: rod_apigrade, dtype: int64\n",
      "\n",
      "Manufacturer: extend customized interfaces\n",
      "NaN    5\n",
      "Name: rod_apigrade, dtype: int64\n",
      "\n",
      "Manufacturer: incentivize vertical systems\n",
      "SpecialService    9\n",
      "D                 1\n",
      "Name: rod_apigrade, dtype: int64\n",
      "\n",
      "Manufacturer: iterate bricks-and-clicks e-business\n",
      "K    2\n",
      "D    1\n",
      "Name: rod_apigrade, dtype: int64\n",
      "\n"
     ]
    }
   ],
   "source": [
    "for manufacturer in raw_data['rod_make'].unique():\n",
    "    print(\"Manufacturer: \" + str(manufacturer))\n",
    "    mask = (raw_data['rod_make'] == manufacturer)\n",
    "    print(raw_data['rod_apigrade'][mask].value_counts(ascending=False, dropna=False))\n",
    "    print('')"
   ]
  },
  {
   "cell_type": "code",
   "execution_count": 26,
   "metadata": {},
   "outputs": [
    {
     "name": "stdout",
     "output_type": "stream",
     "text": [
      "6 unique values\n"
     ]
    },
    {
     "data": {
      "text/plain": [
       "TAC_ABOVE_NIP        914\n",
       "TAC_BELOW_NIP        777\n",
       "PACKER_DONNAN        626\n",
       "PACKER_TAC_DONNAN    193\n",
       "NaN                   46\n",
       "NOSEP_PACKER          40\n",
       "Name: bha_configuration, dtype: int64"
      ]
     },
     "execution_count": 26,
     "metadata": {},
     "output_type": "execute_result"
    }
   ],
   "source": [
    "print(str(raw_data['bha_configuration'].unique().size) + ' unique values')\n",
    "raw_data['bha_configuration'].value_counts(ascending=False, dropna=False)"
   ]
  },
  {
   "cell_type": "code",
   "execution_count": 27,
   "metadata": {},
   "outputs": [
    {
     "name": "stdout",
     "output_type": "stream",
     "text": [
      "1485 unique values\n"
     ]
    },
    {
     "data": {
      "text/plain": [
       "NaN           1096\n",
       "0.000000         7\n",
       "152.000000       4\n",
       "160.000000       2\n",
       "148.000000       2\n",
       "              ... \n",
       "136.882648       1\n",
       "129.586461       1\n",
       "118.111931       1\n",
       "130.378703       1\n",
       "140.199398       1\n",
       "Name: GrossStrokeLength, Length: 1485, dtype: int64"
      ]
     },
     "execution_count": 27,
     "metadata": {},
     "output_type": "execute_result"
    }
   ],
   "source": [
    "print(str(raw_data['GrossStrokeLength'].unique().size) + ' unique values')\n",
    "raw_data['GrossStrokeLength'].value_counts(ascending=False, dropna=False)"
   ]
  },
  {
   "cell_type": "code",
   "execution_count": 28,
   "metadata": {},
   "outputs": [
    {
     "data": {
      "text/plain": [
       "(2596, 55)"
      ]
     },
     "execution_count": 28,
     "metadata": {},
     "output_type": "execute_result"
    }
   ],
   "source": [
    "raw_data.shape"
   ]
  }
 ],
 "metadata": {
  "kernelspec": {
   "display_name": "Python 3",
   "language": "python",
   "name": "python3"
  },
  "language_info": {
   "codemirror_mode": {
    "name": "ipython",
    "version": 3
   },
   "file_extension": ".py",
   "mimetype": "text/x-python",
   "name": "python",
   "nbconvert_exporter": "python",
   "pygments_lexer": "ipython3",
   "version": "3.6.9"
  }
 },
 "nbformat": 4,
 "nbformat_minor": 4
}
