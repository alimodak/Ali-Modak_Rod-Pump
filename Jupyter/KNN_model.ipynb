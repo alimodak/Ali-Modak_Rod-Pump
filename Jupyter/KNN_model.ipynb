{
 "cells": [
  {
   "cell_type": "code",
   "execution_count": 1,
   "metadata": {},
   "outputs": [],
   "source": [
    "import numpy as np\n",
    "import matplotlib.pyplot as plt\n",
    "import pandas as pd\n",
    "\n",
    "raw_data = pd.read_csv('../rodpump_noImputed.csv')\n"
   ]
  },
  {
   "cell_type": "code",
   "execution_count": 2,
   "metadata": {},
   "outputs": [],
   "source": [
    "from sklearn.preprocessing import LabelEncoder\n",
    "\n",
    "def encode(df, columns):\n",
    "    le = LabelEncoder()\n",
    "    df[column] = le.fit_transform(df[column])\n",
    "    return df"
   ]
  },
  {
   "cell_type": "code",
   "execution_count": 3,
   "metadata": {},
   "outputs": [],
   "source": [
    "categorical_columns = ['bha_configuration',\n",
    "                      'wellbore_category',\n",
    "                       'packer_vs_tac',\n",
    "                       'rod_sinker_type',\n",
    "                       'manual_scale',\n",
    "                       'rod_make',\n",
    "                       'rod_apigrade',\n",
    "                       'DESANDDEGAS_TYP',\n",
    "                       'rod_has_guides'\n",
    "                      ]"
   ]
  },
  {
   "cell_type": "code",
   "execution_count": 4,
   "metadata": {},
   "outputs": [],
   "source": [
    "#encode catagorical variables\n",
    "for column in raw_data:\n",
    "    if (column in categorical_columns):\n",
    "        encode(raw_data, column)"
   ]
  },
  {
   "cell_type": "code",
   "execution_count": 5,
   "metadata": {},
   "outputs": [],
   "source": [
    "from sklearn.model_selection import train_test_split\n",
    "from sklearn.neighbors import KNeighborsClassifier\n",
    "from sklearn.preprocessing import StandardScaler\n",
    "from sklearn import metrics\n",
    "from sklearn.metrics import classification_report, confusion_matrix\n",
    "from sklearn.model_selection import cross_val_score"
   ]
  },
  {
   "cell_type": "code",
   "execution_count": 8,
   "metadata": {},
   "outputs": [],
   "source": [
    "#remove pump identifiers\n",
    "features = list(raw_data)\n",
    "features.remove('FAILURETYPE')\n",
    "features.remove('roduid')\n",
    "features.remove('UWI')\n",
    "features.remove('lifetime_end')\n",
    "features.remove('pump_bore')\n",
    "\n",
    "#define x and y dataset (train/ test data)\n",
    "X = np.array(raw_data[features])\n",
    "y = np.array(raw_data['FAILURETYPE'])\n",
    "X_train, X_test, y_train, y_test = train_test_split(X, y, test_size=0.20, random_state = 42)\n",
    "\n",
    "#scaling/normalizing\n",
    "scaler = StandardScaler()\n",
    "scaler.fit(X_train)\n",
    "\n",
    "X_train = scaler.transform(X_train)\n",
    "X_test = scaler.transform(X_test)\n",
    "\n",
    "\n"
   ]
  },
  {
   "cell_type": "code",
   "execution_count": 8,
   "metadata": {},
   "outputs": [],
   "source": [
    "# y_pred = classifier.predict(X_test)"
   ]
  },
  {
   "cell_type": "code",
   "execution_count": 9,
   "metadata": {},
   "outputs": [],
   "source": [
    "error = []\n",
    "\n",
    "# Calculating error for K values between 1 and 40\n",
    "for i in range(1, 40):\n",
    "    knn = KNeighborsClassifier(n_neighbors=i)\n",
    "    knn.fit(X_train, y_train)\n",
    "    pred_i = knn.predict(X_test)\n",
    "    error.append(np.mean(pred_i != y_test))"
   ]
  },
  {
   "cell_type": "code",
   "execution_count": 10,
   "metadata": {},
   "outputs": [
    {
     "data": {
      "text/plain": [
       "Text(0, 0.5, 'Mean Error')"
      ]
     },
     "execution_count": 10,
     "metadata": {},
     "output_type": "execute_result"
    },
    {
     "data": {
      "image/png": "[encoded data removed]",
      "text/plain": [
       "<Figure size 864x432 with 1 Axes>"
      ]
     },
     "metadata": {
      "needs_background": "light"
     },
     "output_type": "display_data"
    }
   ],
   "source": [
    "#plotting errors to see which k value produces lowest mean error\n",
    "plt.figure(figsize=(12, 6))\n",
    "plt.plot(range(1, 40), error, color='red', linestyle='dashed', marker='o',\n",
    "         markerfacecolor='blue', markersize=10)\n",
    "plt.title('Error Rate K Value')\n",
    "plt.xlabel('K Value')\n",
    "plt.ylabel('Mean Error')"
   ]
  },
  {
   "cell_type": "code",
   "execution_count": 14,
   "metadata": {},
   "outputs": [
    {
     "name": "stdout",
     "output_type": "stream",
     "text": [
      "[[ 2  3 13]\n",
      " [ 5 10 16]\n",
      " [14 18 74]]\n",
      "The accuracy of the KNN model unsing a K value of 1 is: 0.5548387096774193\n",
      "[[ 5  6  7]\n",
      " [ 9 13  9]\n",
      " [25 31 50]]\n",
      "The accuracy of the KNN model unsing a K value of 2 is: 0.43870967741935485\n",
      "[[ 4  2 12]\n",
      " [ 9  3 19]\n",
      " [16  8 82]]\n",
      "The accuracy of the KNN model unsing a K value of 3 is: 0.5741935483870968\n",
      "[[ 1  4 13]\n",
      " [ 4  7 20]\n",
      " [14 13 79]]\n",
      "The accuracy of the KNN model unsing a K value of 4 is: 0.5612903225806452\n",
      "[[ 2  4 12]\n",
      " [ 4  7 20]\n",
      " [10 11 85]]\n",
      "The accuracy of the KNN model unsing a K value of 5 is: 0.6064516129032258\n",
      "[[ 2  3 13]\n",
      " [ 4  6 21]\n",
      " [13  8 85]]\n",
      "The accuracy of the KNN model unsing a K value of 6 is: 0.6\n",
      "[[ 2  3 13]\n",
      " [ 2  6 23]\n",
      " [11  9 86]]\n",
      "The accuracy of the KNN model unsing a K value of 7 is: 0.6064516129032258\n",
      "[[ 2  3 13]\n",
      " [ 3  7 21]\n",
      " [ 8  4 94]]\n",
      "The accuracy of the KNN model unsing a K value of 8 is: 0.6645161290322581\n",
      "[[ 3  3 12]\n",
      " [ 4  6 21]\n",
      " [ 7  2 97]]\n",
      "The accuracy of the KNN model unsing a K value of 9 is: 0.6838709677419355\n",
      "[[ 2  2 14]\n",
      " [ 3  6 22]\n",
      " [ 7  1 98]]\n",
      "The accuracy of the KNN model unsing a K value of 10 is: 0.6838709677419355\n",
      "[[ 3  2 13]\n",
      " [ 5  6 20]\n",
      " [ 8  2 96]]\n",
      "The accuracy of the KNN model unsing a K value of 11 is: 0.6774193548387096\n",
      "[[ 3  2 13]\n",
      " [ 4  5 22]\n",
      " [ 9  1 96]]\n",
      "The accuracy of the KNN model unsing a K value of 12 is: 0.6709677419354839\n",
      "[[ 3  2 13]\n",
      " [ 4  3 24]\n",
      " [ 9  4 93]]\n",
      "The accuracy of the KNN model unsing a K value of 13 is: 0.6387096774193548\n",
      "[[ 3  1 14]\n",
      " [ 3  2 26]\n",
      " [ 9  2 95]]\n",
      "The accuracy of the KNN model unsing a K value of 14 is: 0.6451612903225806\n",
      "[[ 4  1 13]\n",
      " [ 3  3 25]\n",
      " [ 7  2 97]]\n",
      "The accuracy of the KNN model unsing a K value of 15 is: 0.6709677419354839\n",
      "[[  3   2  13]\n",
      " [  4   2  25]\n",
      " [  5   1 100]]\n",
      "The accuracy of the KNN model unsing a K value of 16 is: 0.6774193548387096\n",
      "[[ 3  2 13]\n",
      " [ 5  2 24]\n",
      " [ 7  2 97]]\n",
      "The accuracy of the KNN model unsing a K value of 17 is: 0.6580645161290323\n",
      "[[  1   1  16]\n",
      " [  4   2  25]\n",
      " [  4   2 100]]\n",
      "The accuracy of the KNN model unsing a K value of 18 is: 0.6645161290322581\n",
      "[[  1   1  16]\n",
      " [  2   2  27]\n",
      " [  4   1 101]]\n",
      "The accuracy of the KNN model unsing a K value of 19 is: 0.6709677419354839\n",
      "[[  3   1  14]\n",
      " [  3   2  26]\n",
      " [  4   2 100]]\n",
      "The accuracy of the KNN model unsing a K value of 20 is: 0.6774193548387096\n",
      "[[  3   1  14]\n",
      " [  3   2  26]\n",
      " [  4   2 100]]\n",
      "The accuracy of the KNN model unsing a K value of 21 is: 0.6774193548387096\n",
      "[[  3   1  14]\n",
      " [  3   2  26]\n",
      " [  3   1 102]]\n",
      "The accuracy of the KNN model unsing a K value of 22 is: 0.6903225806451613\n",
      "[[  3   0  15]\n",
      " [  3   2  26]\n",
      " [  2   2 102]]\n",
      "The accuracy of the KNN model unsing a K value of 23 is: 0.6903225806451613\n",
      "[[  3   0  15]\n",
      " [  3   2  26]\n",
      " [  2   2 102]]\n",
      "The accuracy of the KNN model unsing a K value of 24 is: 0.6903225806451613\n",
      "[[  3   0  15]\n",
      " [  3   2  26]\n",
      " [  2   1 103]]\n",
      "The accuracy of the KNN model unsing a K value of 25 is: 0.6967741935483871\n",
      "[[  3   0  15]\n",
      " [  3   2  26]\n",
      " [  2   2 102]]\n",
      "The accuracy of the KNN model unsing a K value of 26 is: 0.6903225806451613\n",
      "[[  2   0  16]\n",
      " [  2   2  27]\n",
      " [  1   1 104]]\n",
      "The accuracy of the KNN model unsing a K value of 27 is: 0.6967741935483871\n",
      "[[  3   0  15]\n",
      " [  3   2  26]\n",
      " [  2   0 104]]\n",
      "The accuracy of the KNN model unsing a K value of 28 is: 0.7032258064516129\n",
      "[[  2   0  16]\n",
      " [  2   3  26]\n",
      " [  0   0 106]]\n",
      "The accuracy of the KNN model unsing a K value of 29 is: 0.7161290322580646\n",
      "[[  1   0  17]\n",
      " [  2   2  27]\n",
      " [  0   1 105]]\n",
      "The accuracy of the KNN model unsing a K value of 30 is: 0.6967741935483871\n",
      "[[  1   0  17]\n",
      " [  2   3  26]\n",
      " [  0   0 106]]\n",
      "The accuracy of the KNN model unsing a K value of 31 is: 0.7096774193548387\n",
      "[[  1   0  17]\n",
      " [  1   3  27]\n",
      " [  0   0 106]]\n",
      "The accuracy of the KNN model unsing a K value of 32 is: 0.7096774193548387\n",
      "[[  1   0  17]\n",
      " [  1   3  27]\n",
      " [  0   0 106]]\n",
      "The accuracy of the KNN model unsing a K value of 33 is: 0.7096774193548387\n",
      "[[  1   1  16]\n",
      " [  1   2  28]\n",
      " [  0   0 106]]\n",
      "The accuracy of the KNN model unsing a K value of 34 is: 0.7032258064516129\n",
      "[[  1   0  17]\n",
      " [  0   1  30]\n",
      " [  0   0 106]]\n",
      "The accuracy of the KNN model unsing a K value of 35 is: 0.6967741935483871\n",
      "[[  1   1  16]\n",
      " [  0   2  29]\n",
      " [  0   0 106]]\n",
      "The accuracy of the KNN model unsing a K value of 36 is: 0.7032258064516129\n",
      "[[  1   1  16]\n",
      " [  0   0  31]\n",
      " [  0   1 105]]\n",
      "The accuracy of the KNN model unsing a K value of 37 is: 0.6838709677419355\n",
      "[[  1   0  17]\n",
      " [  1   0  30]\n",
      " [  0   0 106]]\n",
      "The accuracy of the KNN model unsing a K value of 38 is: 0.6903225806451613\n",
      "[[  1   0  17]\n",
      " [  1   0  30]\n",
      " [  0   0 106]]\n",
      "The accuracy of the KNN model unsing a K value of 39 is: 0.6903225806451613\n",
      "The best accuracy of the KNN model unsing a K value of 29 is: 0.7161290322580646\n"
     ]
    }
   ],
   "source": [
    "#KNN set up and run / finding best k value to use\n",
    "# print(\"Accuracy = # of correct predictions over total predictions\")\n",
    "# print(\"Precision = # correctly positively identified classifiactions over total positive identifications (True positives  over True positives + False Positives)\")\n",
    "# print(\"Recall = # of actual postives identified correctly (True positives over true positives + false negatives), want this to generally be close to 1.00\")\n",
    "# print(\"F1-score = the harmonic mean of precision and recall, preciseness of model\")\n",
    "# print(\"Support = total number test cases\")\n",
    "# print()\n",
    "# print()\n",
    "\n",
    "best_k = 0\n",
    "best_metric = 0\n",
    "for i in range(1, 40):\n",
    "    n_neighbors=i\n",
    "    knn = KNeighborsClassifier(n_neighbors)\n",
    "    knn.fit(X_train, y_train)\n",
    "    pred_i = knn.predict(X_test)\n",
    "    print(confusion_matrix(y_test, pred_i))\n",
    "    # print(classification_report(y_test, pred_i))\n",
    "    print(\"The accuracy of the KNN model unsing a K value of \" + str(n_neighbors) +\" is: \" + str(metrics.accuracy_score(y_test, pred_i)))\n",
    "    if metrics.accuracy_score(y_test, pred_i) > best_metric:\n",
    "        best_k = n_neighbors\n",
    "        best_metric = metrics.accuracy_score(y_test, pred_i)\n",
    "\n",
    "print(\"The best accuracy of the KNN model unsing a K value of \" + str(best_k) +\" is: \" + str(best_metric))\n",
    "\n"
   ]
  },
  {
   "cell_type": "code",
   "execution_count": 10,
   "metadata": {},
   "outputs": [
    {
     "name": "stdout",
     "output_type": "stream",
     "text": [
      "The best accuracy of the KNN model unsing a K value of 37 is: 0.6085295349811479\n"
     ]
    }
   ],
   "source": [
    "# Same as above but using the cross validation method\n",
    "\n",
    "best_k = 0\n",
    "best_metric = 0\n",
    "for i in range(1, 40):\n",
    "    n_neighbors=i\n",
    "    knn = KNeighborsClassifier(n_neighbors)\n",
    "    this_score = cross_val_score(knn, X, y, cv=5, scoring='accuracy')\n",
    "    if this_score.mean() > best_metric:\n",
    "        best_k = n_neighbors\n",
    "        best_metric = this_score.mean()\n",
    "        \n",
    "print(\"The best accuracy of the KNN model unsing a K value of \" + str(best_k) +\" is: \" + str(best_metric))"
   ]
  },
  {
   "cell_type": "code",
   "execution_count": 12,
   "metadata": {},
   "outputs": [
    {
     "data": {
      "text/plain": [
       "(774, 45)"
      ]
     },
     "execution_count": 12,
     "metadata": {},
     "output_type": "execute_result"
    }
   ],
   "source": [
    "raw_data.shape"
   ]
  }
 ],
 "metadata": {
  "kernelspec": {
   "display_name": "Python 3",
   "language": "python",
   "name": "python3"
  },
  "language_info": {
   "codemirror_mode": {
    "name": "ipython",
    "version": 3
   },
   "file_extension": ".py",
   "mimetype": "text/x-python",
   "name": "python",
   "nbconvert_exporter": "python",
   "pygments_lexer": "ipython3",
   "version": "3.6.9"
  }
 },
 "nbformat": 4,
 "nbformat_minor": 4
}
