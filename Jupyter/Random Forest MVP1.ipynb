{
 "cells": [
  {
   "cell_type": "code",
   "execution_count": 2,
   "metadata": {},
   "outputs": [],
   "source": [
    "import pandas as pd\n",
    "import numpy as np"
   ]
  },
  {
   "cell_type": "code",
   "execution_count": null,
   "metadata": {},
   "outputs": [],
   "source": [
    "from sklearn.metrics import (precision_score, recall_score, roc_auc_score)\n",
    "from sklearn.ensemble import RandomForestClassifier\n",
    "from sklearn.model_selection import train_test_split\n",
    " \n",
    "# set seed to make results reproducible\n",
    "RF_SEED = 30"
   ]
  },
  {
   "cell_type": "code",
   "execution_count": 3,
   "metadata": {},
   "outputs": [],
   "source": [
    "raw_data = pd.read_csv('../rodpump_noImputed.csv', parse_dates=['lifetime_end'])"
   ]
  },
  {
   "cell_type": "code",
   "execution_count": 3,
   "metadata": {},
   "outputs": [],
   "source": [
    "from sklearn.preprocessing import LabelEncoder\n",
    "labelencoder = LabelEncoder()\n",
    "def encode_categorical(df, columnName):\n",
    "    df[columnName] = labelencoder.fit_transform(df[columnName])\n",
    "    return df"
   ]
  },
  {
   "cell_type": "code",
   "execution_count": null,
   "metadata": {},
   "outputs": [],
   "source": [
    "raw_data = encode_categorical(raw_data, 'bha_configuration')\n",
    "raw_data = encode_categorical(raw_data, 'wellbore_category')\n",
    "raw_data = encode_categorical(raw_data, 'packer_vs_tac')\n",
    "raw_data = encode_categorical(raw_data, 'rod_sinker_type')\n",
    "raw_data = encode_categorical(raw_data, 'manual_scale')\n",
    "raw_data = encode_categorical(raw_data, 'rod_make')\n",
    "raw_data = encode_categorical(raw_data, 'rod_apigrade')\n",
    "raw_data = encode_categorical(raw_data, 'FAILURETYPE')"
   ]
  },
  {
   "cell_type": "code",
   "execution_count": 6,
   "metadata": {},
   "outputs": [],
   "source": [
    "features = ['PrimarySetpoint','SecondarySetpoint','H2S_CONCENTRATION','StrokeLength','bha_configuration','max_unguided_dls','dls_high_in_hole','MAX_INCLINATION','AVG_PRESSURE_TUBING','AVG_PRESSURE_CASING','AVG_DIFFERENTIAL_PRESSURE','AVG_OIL_VOLUME','AVG_WATER_VOLUME','AVG_LIQUID_VOLUME','overall_max_sideload','shallow_max_sideload','max_unguided_sideload','wellbore_category','packer_vs_tac','rod_sinker_type','manual_scale','rod_has_guides','rod_apigrade']"
   ]
  },
  {
   "cell_type": "code",
   "execution_count": null,
   "metadata": {},
   "outputs": [],
   "source": [
    "X = np.array(raw_data[features])\n",
    "# X = data\n",
    "y = np.array(raw_data['FAILURETYPE'])\n",
    "# y = labels"
   ]
  },
  {
   "cell_type": "code",
   "execution_count": null,
   "metadata": {},
   "outputs": [],
   "source": [
    "def split_data_train_model(y, X):\n",
    "    # 20% examples in test data\n",
    "    X_train, X_test, y_train, y_test = train_test_split(X, y, test_size=0.2, random_state=RF_SEED)\n",
    " \n",
    "    # training data fit\n",
    "    # 1000 trees\n",
    "    regressor = RandomForestRegressor(n_estimators=1000, random_state=RF_SEED)\n",
    "    regressor.fit(x_data, y_data)\n",
    " \n",
    "    return X_test, y_test, regressor"
   ]
  },
  {
   "cell_type": "code",
   "execution_count": null,
   "metadata": {},
   "outputs": [],
   "source": [
    "# trains and tests the model\n",
    "X_test, y_test, rf_model = split_data_train_model(y, X)\n",
    "\n",
    "# model performance with testing data\n",
    "# class prediction\n",
    "rf_predictions = rf_model.predict(X_test)\n",
    "# probability\n",
    "rf_probabilities = rf_model.predict_proba(X_test)"
   ]
  },
  {
   "cell_type": "code",
   "execution_count": null,
   "metadata": {},
   "outputs": [],
   "source": [
    "# calculate precision\n",
    "precision = precision_score(y_test, rf_predictions, average=\"weighted\")\n",
    "# calculate recall\n",
    "recall = recall_score(y_test, rf_predictions, average=\"weighted\")\n",
    " \n",
    "print(\"The Model Precision: {}\".format(precision))\n",
    "print(\"The Model Recall: {}\".format(recall))"
   ]
  }
 ],
 "metadata": {
  "kernelspec": {
   "display_name": "Python 3",
   "language": "python",
   "name": "python3"
  },
  "language_info": {
   "codemirror_mode": {
    "name": "ipython",
    "version": 3
   },
   "file_extension": ".py",
   "mimetype": "text/x-python",
   "name": "python",
   "nbconvert_exporter": "python",
   "pygments_lexer": "ipython3",
   "version": "3.7.6"
  }
 },
 "nbformat": 4,
 "nbformat_minor": 4
}
