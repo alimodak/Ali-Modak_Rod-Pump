{
 "cells": [
  {
   "cell_type": "markdown",
   "metadata": {},
   "source": [
    "# K-Nearest Neighbors Model"
   ]
  },
  {
   "cell_type": "markdown",
   "metadata": {},
   "source": [
    "### Imports"
   ]
  },
  {
   "cell_type": "code",
   "execution_count": 545,
   "metadata": {},
   "outputs": [],
   "source": [
    "import numpy as np\n",
    "import matplotlib.pyplot as plt\n",
    "import pandas as pd\n",
    "from sklearn.model_selection import train_test_split\n",
    "from sklearn.neighbors import KNeighborsClassifier\n",
    "from sklearn.preprocessing import StandardScaler\n",
    "from sklearn import metrics\n",
    "from sklearn.metrics import classification_report, confusion_matrix\n",
    "from sklearn.metrics import plot_confusion_matrix\n",
    "from sklearn.preprocessing import LabelEncoder\n",
    "from sklearn.metrics import roc_auc_score"
   ]
  },
  {
   "cell_type": "markdown",
   "metadata": {},
   "source": [
    "## Import data and identify catagorical varables"
   ]
  },
  {
   "cell_type": "code",
   "execution_count": 546,
   "metadata": {},
   "outputs": [],
   "source": [
    "raw_data = pd.read_csv('../rodpump_noImputed.csv')"
   ]
  },
  {
   "cell_type": "code",
   "execution_count": 547,
   "metadata": {},
   "outputs": [],
   "source": [
    "categorical_columns = ['bha_configuration',\n",
    "                      'wellbore_category',\n",
    "                       'packer_vs_tac',\n",
    "                       'rod_sinker_type',\n",
    "                       'manual_scale',\n",
    "                       'rod_make',\n",
    "                       'rod_apigrade',\n",
    "                       'DESANDDEGAS_TYP',\n",
    "                       'rod_has_guides',\n",
    "                       'pump_bore'\n",
    "                      ]"
   ]
  },
  {
   "cell_type": "markdown",
   "metadata": {},
   "source": [
    "## Encode catagorical variables"
   ]
  },
  {
   "cell_type": "code",
   "execution_count": 548,
   "metadata": {},
   "outputs": [],
   "source": [
    "def encode(df, columns):\n",
    "    le = LabelEncoder()\n",
    "    df[column] = le.fit_transform(df[column])\n",
    "    return df"
   ]
  },
  {
   "cell_type": "code",
   "execution_count": 549,
   "metadata": {},
   "outputs": [],
   "source": [
    "for column in raw_data:\n",
    "    if (column in categorical_columns):\n",
    "        encode(raw_data, column)"
   ]
  },
  {
   "cell_type": "markdown",
   "metadata": {},
   "source": [
    "## Creating and normalizing test-train data"
   ]
  },
  {
   "cell_type": "code",
   "execution_count": 550,
   "metadata": {},
   "outputs": [],
   "source": [
    "features = list(raw_data)\n",
    "features.remove('FAILURETYPE')\n",
    "features.remove('roduid')\n",
    "features.remove('UWI')\n",
    "features.remove('lifetime_end')\n",
    "features.remove('pump_bore')\n",
    "\n",
    "#define x and y dataset (train/ test data)\n",
    "X = np.array(raw_data[features])\n",
    "y = np.array(raw_data['FAILURETYPE'])\n",
    "X_train, X_test, y_train, y_test = train_test_split(X, y, test_size=0.20, random_state = 30)\n",
    "\n",
    "#scaling/normalizing\n",
    "scaler = StandardScaler()\n",
    "scaler.fit(X_train)\n",
    "\n",
    "X_train = scaler.transform(X_train)\n",
    "X_test = scaler.transform(X_test)\n",
    "\n",
    "\n"
   ]
  },
  {
   "cell_type": "markdown",
   "metadata": {},
   "source": [
    "## Finding best K value to use for model"
   ]
  },
  {
   "cell_type": "code",
   "execution_count": 551,
   "metadata": {},
   "outputs": [],
   "source": [
    "error = []\n",
    "for i in range(1, 40):\n",
    "    knn = KNeighborsClassifier(n_neighbors=i)\n",
    "    knn.fit(X_train, y_train)\n",
    "    pred_i = knn.predict(X_test)\n",
    "    error.append(np.mean(pred_i != y_test))"
   ]
  },
  {
   "cell_type": "code",
   "execution_count": 552,
   "metadata": {},
   "outputs": [
    {
     "data": {
      "text/plain": [
       "Text(0, 0.5, 'Mean Error')"
      ]
     },
     "execution_count": 552,
     "metadata": {},
     "output_type": "execute_result"
    },
    {
     "data": {
      "image/png": "[encoded data removed]",
      "text/plain": [
       "<Figure size 864x432 with 1 Axes>"
      ]
     },
     "metadata": {
      "needs_background": "light"
     },
     "output_type": "display_data"
    }
   ],
   "source": [
    "\n",
    "plt.figure(figsize=(12, 6))\n",
    "plt.plot(range(1, 40), error, color='red', linestyle='dashed', marker='o',\n",
    "         markerfacecolor='blue', markersize=10)\n",
    "plt.title('Error Rate K Value')\n",
    "plt.xlabel('K Value')\n",
    "plt.ylabel('Mean Error')"
   ]
  },
  {
   "cell_type": "markdown",
   "metadata": {},
   "source": [
    "## Training the model and finding the accuracy with the best K-value"
   ]
  },
  {
   "cell_type": "code",
   "execution_count": 553,
   "metadata": {},
   "outputs": [],
   "source": [
    "best_k = 0\n",
    "best_metric = 0\n",
    "for i in range(1, 40):\n",
    "    n_neighbors=i\n",
    "    knn = KNeighborsClassifier(n_neighbors)\n",
    "    knn.fit(X_train, y_train)\n",
    "    pred_i = knn.predict(X_test)\n",
    "    \n",
    "    if metrics.accuracy_score(y_test, pred_i) > best_metric:\n",
    "        best_k = n_neighbors\n",
    "        best_metric =  metrics.accuracy_score(y_test, pred_i)\n",
    "       "
   ]
  },
  {
   "cell_type": "code",
   "execution_count": 554,
   "metadata": {},
   "outputs": [
    {
     "name": "stdout",
     "output_type": "stream",
     "text": [
      "[[ 4  0 26]\n",
      " [ 2  7 21]\n",
      " [ 3  1 91]]\n",
      "                 precision    recall  f1-score   support\n",
      "\n",
      "           Rods       0.44      0.13      0.21        30\n",
      "Sucker Rod Pump       0.88      0.23      0.37        30\n",
      "         Tubing       0.66      0.96      0.78        95\n",
      "\n",
      "       accuracy                           0.66       155\n",
      "      macro avg       0.66      0.44      0.45       155\n",
      "   weighted avg       0.66      0.66      0.59       155\n",
      "\n"
     ]
    }
   ],
   "source": [
    "knn = KNeighborsClassifier(best_k)\n",
    "knn.fit(X_train, y_train)\n",
    "pred_i = knn.predict(X_test)\n",
    "confus_matrix = confusion_matrix(y_test, pred_i)\n",
    "print(confus_matrix)\n",
    "print(classification_report(y_test, pred_i))"
   ]
  },
  {
   "cell_type": "markdown",
   "metadata": {},
   "source": [
    "- Accuracy = # of correct predictions over total predictions\n",
    "- Precision = # correctly positively identified classifiactions over total positive identifications (True positives  over True positives + False Positives)\n",
    "- Recall = # of actual postives identified correctly (True positives over true positives + false negatives), want this to generally be close to 1.00\n",
    "- F1-score = the harmonic mean of precision and recall, preciseness of model\n",
    "- Support = total number test cases"
   ]
  },
  {
   "cell_type": "markdown",
   "metadata": {},
   "source": [
    "## Confusion Matrix and Accuracy Score"
   ]
  },
  {
   "cell_type": "code",
   "execution_count": 555,
   "metadata": {},
   "outputs": [
    {
     "name": "stdout",
     "output_type": "stream",
     "text": [
      "The best accuracy of the KNN model unsing a K value of 18 is: 0.6580645161290323\n"
     ]
    },
    {
     "data": {
      "image/png": "[encoded data removed]",
      "text/plain": [
       "<Figure size 432x288 with 2 Axes>"
      ]
     },
     "metadata": {
      "needs_background": "light"
     },
     "output_type": "display_data"
    }
   ],
   "source": [
    "plot_confusion_matrix(knn, X_test, y_test)\n",
    "print(\"The best accuracy of the KNN model unsing a K value of \" + str(best_k) +\" is: \" + str(best_metric))"
   ]
  }
 ],
 "metadata": {
  "kernelspec": {
   "display_name": "Python 3",
   "language": "python",
   "name": "python3"
  },
  "language_info": {
   "codemirror_mode": {
    "name": "ipython",
    "version": 3
   },
   "file_extension": ".py",
   "mimetype": "text/x-python",
   "name": "python",
   "nbconvert_exporter": "python",
   "pygments_lexer": "ipython3",
   "version": "3.8.6"
  }
 },
 "nbformat": 4,
 "nbformat_minor": 4
}
