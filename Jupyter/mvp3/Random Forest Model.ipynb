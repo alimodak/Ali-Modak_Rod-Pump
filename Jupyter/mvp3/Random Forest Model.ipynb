{
 "cells": [
  {
   "cell_type": "code",
   "execution_count": 12,
   "metadata": {},
   "outputs": [],
   "source": [
    "import pandas as pd\n",
    "import numpy as np\n",
    "import shap\n",
    "from floridaman import data_cleaning\n",
    "\n",
    "from sklearn.ensemble import RandomForestClassifier\n",
    "from sklearn.model_selection import GridSearchCV\n",
    "from sklearn.metrics import plot_confusion_matrix\n",
    "from sklearn.metrics import roc_auc_score\n",
    "from sklearn.metrics import classification_report"
   ]
  },
  {
   "cell_type": "code",
   "execution_count": 13,
   "metadata": {},
   "outputs": [],
   "source": [
    "# load in data\n",
    "raw_data = data_cleaning.load('null_transformed')"
   ]
  },
  {
   "cell_type": "code",
   "execution_count": 14,
   "metadata": {},
   "outputs": [],
   "source": [
    "full_data = data_cleaning.drop_columns(raw_data, .4, .4)\n",
    "balanced_data = data_cleaning.balance(full_data)\n",
    "\n",
    "full_data = data_cleaning.impute_values(full_data, 5)\n",
    "balanced_data = data_cleaning.impute_values(balanced_data, 5)\n",
    "\n",
    "X_train = np.array(balanced_data[data_cleaning.features(balanced_data)])\n",
    "y_train = np.array(balanced_data['FAILURETYPE'])\n",
    "\n",
    "X_test = np.array(full_data[data_cleaning.features(full_data)])\n",
    "y_test = np.array(full_data['FAILURETYPE'])"
   ]
  },
  {
   "cell_type": "markdown",
   "metadata": {},
   "source": [
    "### Optimize Random Forest through Random Search"
   ]
  },
  {
   "cell_type": "code",
   "execution_count": 15,
   "metadata": {},
   "outputs": [],
   "source": [
    "# Specify hyperparameters\n",
    "n_estimators = [int(x) for x in np.linspace(start = 4, stop = 10, num = 10)]\n",
    "max_features = ['auto', 'sqrt']\n",
    "max_depth = [int(x) for x in np.linspace(10, 110, num = 11)]\n",
    "max_depth.append(None)\n",
    "min_samples_split = [2, 5, 10]\n",
    "min_samples_leaf = [1, 2, 4]\n",
    "bootstrap = [True, False]"
   ]
  },
  {
   "cell_type": "code",
   "execution_count": 16,
   "metadata": {},
   "outputs": [],
   "source": [
    "# Create the hyperparameter grid\n",
    "random_grid = {'n_estimators': n_estimators,\n",
    "               'max_features': max_features,\n",
    "               'max_depth': max_depth,\n",
    "               'min_samples_split': min_samples_split,\n",
    "               'min_samples_leaf': min_samples_leaf,\n",
    "               'bootstrap': bootstrap}"
   ]
  },
  {
   "cell_type": "code",
   "execution_count": 17,
   "metadata": {},
   "outputs": [
    {
     "name": "stdout",
     "output_type": "stream",
     "text": [
      "Fitting 8 folds for each of 4320 candidates, totalling 34560 fits\n"
     ]
    },
    {
     "name": "stderr",
     "output_type": "stream",
     "text": [
      "[Parallel(n_jobs=-1)]: Using backend LokyBackend with 14 concurrent workers.\n",
      "[Parallel(n_jobs=-1)]: Done  13 tasks      | elapsed:    0.2s\n",
      "[Parallel(n_jobs=-1)]: Done 240 tasks      | elapsed:    1.3s\n",
      "[Parallel(n_jobs=-1)]: Done 872 tasks      | elapsed:    3.7s\n",
      "[Parallel(n_jobs=-1)]: Done 2004 tasks      | elapsed:    7.3s\n",
      "[Parallel(n_jobs=-1)]: Done 3464 tasks      | elapsed:   12.0s\n",
      "[Parallel(n_jobs=-1)]: Done 5244 tasks      | elapsed:   18.1s\n",
      "[Parallel(n_jobs=-1)]: Done 7352 tasks      | elapsed:   25.1s\n",
      "[Parallel(n_jobs=-1)]: Done 9780 tasks      | elapsed:   33.5s\n",
      "[Parallel(n_jobs=-1)]: Done 12536 tasks      | elapsed:   42.6s\n",
      "[Parallel(n_jobs=-1)]: Done 15612 tasks      | elapsed:   52.8s\n",
      "[Parallel(n_jobs=-1)]: Done 19016 tasks      | elapsed:  1.1min\n",
      "[Parallel(n_jobs=-1)]: Done 22740 tasks      | elapsed:  1.3min\n",
      "[Parallel(n_jobs=-1)]: Done 26792 tasks      | elapsed:  1.5min\n",
      "[Parallel(n_jobs=-1)]: Done 31164 tasks      | elapsed:  1.7min\n",
      "[Parallel(n_jobs=-1)]: Done 34533 out of 34560 | elapsed:  1.9min remaining:    0.1s\n",
      "[Parallel(n_jobs=-1)]: Done 34560 out of 34560 | elapsed:  1.9min finished\n"
     ]
    },
    {
     "data": {
      "text/plain": [
       "GridSearchCV(cv=8, estimator=RandomForestClassifier(), n_jobs=-1,\n",
       "             param_grid={'bootstrap': [True, False],\n",
       "                         'max_depth': [10, 20, 30, 40, 50, 60, 70, 80, 90, 100,\n",
       "                                       110, None],\n",
       "                         'max_features': ['auto', 'sqrt'],\n",
       "                         'min_samples_leaf': [1, 2, 4],\n",
       "                         'min_samples_split': [2, 5, 10],\n",
       "                         'n_estimators': [4, 4, 5, 6, 6, 7, 8, 8, 9, 10]},\n",
       "             verbose=2)"
      ]
     },
     "execution_count": 17,
     "metadata": {},
     "output_type": "execute_result"
    }
   ],
   "source": [
    "# Create a basic RF classifier\n",
    "rf_model = RandomForestClassifier()\n",
    "\n",
    "# Create grid search object with specified parameter grid. Perform \n",
    "# cross validation with 8 folds to randomly select combinations of hyperparameters \n",
    "# from random_grid and return the combination that performs the best.\n",
    "rf_grid = GridSearchCV(estimator = rf_model, param_grid = random_grid, cv = 8, verbose = 2, n_jobs = -1)\n",
    "# LOL n_jobs = 12 for the 14 core machine - please change this to something reasonable like 4\n",
    "\n",
    "# Fit classifier to X_train and y_train\n",
    "rf_grid.fit(X_train, y_train)"
   ]
  },
  {
   "cell_type": "code",
   "execution_count": 18,
   "metadata": {},
   "outputs": [],
   "source": [
    "# Create better model with tuned hyperparameters\n",
    "best_model = rf_grid.best_estimator_"
   ]
  },
  {
   "cell_type": "markdown",
   "metadata": {},
   "source": [
    "### Random Forest Results"
   ]
  },
  {
   "cell_type": "code",
   "execution_count": 19,
   "metadata": {},
   "outputs": [
    {
     "name": "stdout",
     "output_type": "stream",
     "text": [
      "                 precision    recall  f1-score   support\n",
      "\n",
      "           Rods       0.33      0.84      0.47       207\n",
      "Sucker Rod Pump       0.66      0.63      0.65       590\n",
      "         Tubing       0.79      0.53      0.64       874\n",
      "\n",
      "       accuracy                           0.61      1671\n",
      "      macro avg       0.60      0.67      0.59      1671\n",
      "   weighted avg       0.69      0.61      0.62      1671\n",
      "\n",
      "\n",
      "Classifier training score: 0.9677938808373591\n",
      "Best combination of hyperparameters: \n"
     ]
    },
    {
     "data": {
      "text/plain": [
       "{'bootstrap': False,\n",
       " 'max_depth': 30,\n",
       " 'max_features': 'auto',\n",
       " 'min_samples_leaf': 4,\n",
       " 'min_samples_split': 5,\n",
       " 'n_estimators': 8}"
      ]
     },
     "execution_count": 19,
     "metadata": {},
     "output_type": "execute_result"
    }
   ],
   "source": [
    "print(str(classification_report(y_test, best_model.predict(X_test))))\n",
    "print(\"\")\n",
    "print(\"Classifier training score: \" + str(best_model.score(X_train, y_train)))\n",
    "print(\"Best combination of hyperparameters: \")\n",
    "rf_grid.best_params_ # prints the best combination of hyperparameters for our data set "
   ]
  },
  {
   "cell_type": "code",
   "execution_count": 20,
   "metadata": {
    "scrolled": true
   },
   "outputs": [
    {
     "data": {
      "image/png": "[encoded data removed]",
      "text/plain": [
       "<Figure size 432x288 with 2 Axes>"
      ]
     },
     "metadata": {
      "needs_background": "light"
     },
     "output_type": "display_data"
    }
   ],
   "source": [
    "# Plot the confusion matrix\n",
    "cm = plot_confusion_matrix(best_model, X_test, y_test)"
   ]
  },
  {
   "cell_type": "markdown",
   "metadata": {},
   "source": [
    "# SHAP "
   ]
  },
  {
   "cell_type": "code",
   "execution_count": 10,
   "metadata": {},
   "outputs": [],
   "source": [
    "import matplotlib.pyplot as plt\n",
    "explainer = shap.TreeExplainer(best_model)\n",
    "shap_values = explainer.shap_values(X_test)"
   ]
  },
  {
   "cell_type": "markdown",
   "metadata": {},
   "source": [
    "#### class # as we encoded it:\n",
    "- Rods = 0\n",
    "- SRP = 1\n",
    "- Tubing = 2"
   ]
  },
  {
   "cell_type": "markdown",
   "metadata": {},
   "source": [
    "### Explaining the prediction of one rod"
   ]
  },
  {
   "cell_type": "code",
   "execution_count": 1,
   "metadata": {},
   "outputs": [
    {
     "ename": "NameError",
     "evalue": "name 'shap' is not defined",
     "output_type": "error",
     "traceback": [
      "\u001b[1;31m---------------------------------------------------------------------------\u001b[0m",
      "\u001b[1;31mNameError\u001b[0m                                 Traceback (most recent call last)",
      "\u001b[1;32m<ipython-input-1-0b414bdfdb5c>\u001b[0m in \u001b[0;36m<module>\u001b[1;34m\u001b[0m\n\u001b[1;32m----> 1\u001b[1;33m \u001b[0mshap\u001b[0m\u001b[1;33m.\u001b[0m\u001b[0minitjs\u001b[0m\u001b[1;33m(\u001b[0m\u001b[1;33m)\u001b[0m\u001b[1;33m\u001b[0m\u001b[1;33m\u001b[0m\u001b[0m\n\u001b[0m\u001b[0;32m      2\u001b[0m \u001b[1;31m# for sucker rod pumps prediction\u001b[0m\u001b[1;33m\u001b[0m\u001b[1;33m\u001b[0m\u001b[1;33m\u001b[0m\u001b[0m\n\u001b[0;32m      3\u001b[0m shap.force_plot(explainer.expected_value[1], # row of expected_value for one rod (baseline prediction)\n\u001b[0;32m      4\u001b[0m                 \u001b[0mshap_values\u001b[0m\u001b[1;33m[\u001b[0m\u001b[1;36m1\u001b[0m\u001b[1;33m]\u001b[0m\u001b[1;33m[\u001b[0m\u001b[1;36m5\u001b[0m\u001b[1;33m]\u001b[0m\u001b[1;33m,\u001b[0m \u001b[1;31m# shap values for class of SRP (class = 1) for that one rod\u001b[0m\u001b[1;33m\u001b[0m\u001b[1;33m\u001b[0m\u001b[0m\n\u001b[0;32m      5\u001b[0m                 \u001b[0mX_test\u001b[0m\u001b[1;33m[\u001b[0m\u001b[1;36m5\u001b[0m\u001b[1;33m]\u001b[0m\u001b[1;33m,\u001b[0m \u001b[1;31m# row of data for one rod\u001b[0m\u001b[1;33m\u001b[0m\u001b[1;33m\u001b[0m\u001b[0m\n",
      "\u001b[1;31mNameError\u001b[0m: name 'shap' is not defined"
     ]
    }
   ],
   "source": [
    "shap.initjs()\n",
    "# for sucker rod pumps prediction\n",
    "shap.force_plot(explainer.expected_value[1], # row of expected_value for one rod (baseline prediction)\n",
    "                shap_values[1][5], # shap values for class of SRP (class = 1) for that one rod\n",
    "                X_test[5], # row of data for one rod\n",
    "                feature_names = data_cleaning.features(X_train),\n",
    "                matplotlib=False)\n",
    "# prediction of 0.97 is probability that this rod had a SRP failure"
   ]
  },
  {
   "cell_type": "code",
   "execution_count": null,
   "metadata": {},
   "outputs": [],
   "source": [
    "shap.decision_plot(\n",
    "    base_value=explainer.expected_value[1],\n",
    "    shap_values=shap_values[1][5],\n",
    "    features=X_test[5],\n",
    "    feature_names= data_cleaning.features(train_data),\n",
    ")"
   ]
  },
  {
   "cell_type": "markdown",
   "metadata": {},
   "source": [
    "### Summary for one class (SRP) and all features"
   ]
  },
  {
   "cell_type": "code",
   "execution_count": null,
   "metadata": {},
   "outputs": [],
   "source": [
    "shap.summary_plot(shap_values = shap_values[1], # shap values for SRP class\n",
    "                  features = X_test, \n",
    "                  max_display=20, # only displays 20 features\n",
    "                  feature_names = data_cleaning.features(train_data),\n",
    "                  plot_type='dot')\n",
    "# this summary plot displays how each feature affects the magnitude of the \n",
    "# probability of our model classifying a rod as SRP \n",
    "# ex: AVG_WATER_VOL causes the probability of SRP failure\n",
    "# to increase when it is at lower values"
   ]
  },
  {
   "cell_type": "code",
   "execution_count": null,
   "metadata": {},
   "outputs": [],
   "source": [
    "shap.summary_plot(shap_values = shap_values[2], # shap values for SRP class\n",
    "                  features = X_test, \n",
    "                  max_display=20, # only displays 20 features\n",
    "                  feature_names = data_cleaning.features(train_data),\n",
    "                  plot_type='bar')\n",
    "# this summary plot displays how each feature overall affected the \n",
    "# probability of our model classifying a rod as SRP \n",
    "# ex: AVG_WATER_VOL mostly caused the probability of a rod to fail by SRP \n",
    "# to change the most (it had the most effect on classification of SRP)\n",
    "# Wherever there is a mixed bag of dots, we know that there is a lot of \n",
    "# interaction effects with other features in making the decision for the model."
   ]
  },
  {
   "cell_type": "markdown",
   "metadata": {},
   "source": [
    "shap.dependence_plot(\"Feature 20\", # affect of avg water volume on entire data set\n",
    "                     shap_values=shap_values[1], \n",
    "                     features=X_test)"
   ]
  },
  {
   "cell_type": "markdown",
   "metadata": {},
   "source": [
    "### Explain predictions for multiple rods in a single plot"
   ]
  },
  {
   "cell_type": "code",
   "execution_count": null,
   "metadata": {
    "scrolled": false
   },
   "outputs": [],
   "source": [
    "# still focuses on SRP class but includes ALL rods\n",
    "shap.force_plot(explainer.expected_value[1], \n",
    "                shap_values[1], \n",
    "                X_test, \n",
    "                feature_names = data_cleaning.features(train_data),\n",
    "                matplotlib=False)"
   ]
  },
  {
   "cell_type": "markdown",
   "metadata": {},
   "source": [
    "CODE FROM BEFORE:"
   ]
  },
  {
   "cell_type": "code",
   "execution_count": null,
   "metadata": {},
   "outputs": [],
   "source": [
    "#shap.summary_plot(shap_values, X_test, feature_names = data_cleaning.features(train_data), class_names = ['Rods', 'Sucker Rod Pump', 'Tubing'], show=False)\n",
    "#plt.savefig('summaryPlot.png')"
   ]
  },
  {
   "cell_type": "code",
   "execution_count": null,
   "metadata": {},
   "outputs": [],
   "source": [
    "#shap.save_html('RandomShap.html',shap.force_plot(explainer.expected_value[1], shap_values[1],\n",
    "    # X_test, feature_names = data_cleaning.features(train_data),matplotlib=False))"
   ]
  }
 ],
 "metadata": {
  "kernelspec": {
   "display_name": "Python 3",
   "language": "python",
   "name": "python3"
  },
  "language_info": {
   "codemirror_mode": {
    "name": "ipython",
    "version": 3
   },
   "file_extension": ".py",
   "mimetype": "text/x-python",
   "name": "python",
   "nbconvert_exporter": "python",
   "pygments_lexer": "ipython3",
   "version": "3.8.6"
  }
 },
 "nbformat": 4,
 "nbformat_minor": 4
}
