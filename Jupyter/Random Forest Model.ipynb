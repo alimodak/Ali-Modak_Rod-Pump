{
 "cells": [
  {
   "cell_type": "code",
   "execution_count": 13,
   "metadata": {},
   "outputs": [],
   "source": [
    "import pandas as pd\n",
    "import numpy as np\n",
    "import shap\n",
    "from floridaman import data_cleaning\n",
    "\n",
    "from sklearn.ensemble import RandomForestClassifier\n",
    "from sklearn.model_selection import GridSearchCV\n",
    "from sklearn.metrics import plot_confusion_matrix\n",
    "from sklearn.metrics import roc_auc_score"
   ]
  },
  {
   "cell_type": "code",
   "execution_count": 14,
   "metadata": {},
   "outputs": [],
   "source": [
    "# load in data\n",
    "raw_data = data_cleaning.load('null_transformed')"
   ]
  },
  {
   "cell_type": "code",
   "execution_count": 15,
   "metadata": {},
   "outputs": [],
   "source": [
    "candidate_data = data_cleaning.generate_candidate_dataset(raw_data, .40, .40, 5)\n",
    "train_data = data_cleaning.balance(candidate_data)\n",
    "\n",
    "X_train = np.array(train_data[data_cleaning.features(train_data)])\n",
    "y_train = np.array(train_data['FAILURETYPE'])\n",
    "\n",
    "X_test = np.array(candidate_data[data_cleaning.features(candidate_data)])\n",
    "y_test = np.array(candidate_data['FAILURETYPE'])"
   ]
  },
  {
   "cell_type": "markdown",
   "metadata": {},
   "source": [
    "### Optimize Random Forest through Random Search"
   ]
  },
  {
   "cell_type": "code",
   "execution_count": 16,
   "metadata": {},
   "outputs": [],
   "source": [
    "# Specify hyperparameters\n",
    "n_estimators = [int(x) for x in np.linspace(start = 4, stop = 10, num = 10)]\n",
    "max_features = ['auto', 'sqrt']\n",
    "max_depth = [int(x) for x in np.linspace(10, 110, num = 11)]\n",
    "max_depth.append(None)\n",
    "min_samples_split = [2, 5, 10]\n",
    "min_samples_leaf = [1, 2, 4]\n",
    "bootstrap = [True, False]"
   ]
  },
  {
   "cell_type": "code",
   "execution_count": 17,
   "metadata": {},
   "outputs": [],
   "source": [
    "# Create the hyperparameter grid\n",
    "random_grid = {'n_estimators': n_estimators,\n",
    "               'max_features': max_features,\n",
    "               'max_depth': max_depth,\n",
    "               'min_samples_split': min_samples_split,\n",
    "               'min_samples_leaf': min_samples_leaf,\n",
    "               'bootstrap': bootstrap}"
   ]
  },
  {
   "cell_type": "code",
   "execution_count": 18,
   "metadata": {},
   "outputs": [
    {
     "name": "stdout",
     "output_type": "stream",
     "text": [
      "Fitting 8 folds for each of 4320 candidates, totalling 34560 fits\n"
     ]
    },
    {
     "name": "stderr",
     "output_type": "stream",
     "text": [
      "[Parallel(n_jobs=12)]: Using backend LokyBackend with 12 concurrent workers.\n",
      "[Parallel(n_jobs=12)]: Done  17 tasks      | elapsed:    1.2s\n",
      "[Parallel(n_jobs=12)]: Done 360 tasks      | elapsed:    2.6s\n",
      "[Parallel(n_jobs=12)]: Done 1984 tasks      | elapsed:    7.4s\n",
      "[Parallel(n_jobs=12)]: Done 4248 tasks      | elapsed:   14.1s\n",
      "[Parallel(n_jobs=12)]: Done 7168 tasks      | elapsed:   22.7s\n",
      "[Parallel(n_jobs=12)]: Done 10728 tasks      | elapsed:   33.2s\n",
      "[Parallel(n_jobs=12)]: Done 14944 tasks      | elapsed:   45.7s\n",
      "[Parallel(n_jobs=12)]: Done 19800 tasks      | elapsed:  1.0min\n",
      "[Parallel(n_jobs=12)]: Done 25312 tasks      | elapsed:  1.3min\n",
      "[Parallel(n_jobs=12)]: Done 31464 tasks      | elapsed:  1.6min\n",
      "[Parallel(n_jobs=12)]: Done 34560 out of 34560 | elapsed:  1.7min finished\n"
     ]
    },
    {
     "data": {
      "text/plain": [
       "GridSearchCV(cv=8, estimator=RandomForestClassifier(), n_jobs=12,\n",
       "             param_grid={'bootstrap': [True, False],\n",
       "                         'max_depth': [10, 20, 30, 40, 50, 60, 70, 80, 90, 100,\n",
       "                                       110, None],\n",
       "                         'max_features': ['auto', 'sqrt'],\n",
       "                         'min_samples_leaf': [1, 2, 4],\n",
       "                         'min_samples_split': [2, 5, 10],\n",
       "                         'n_estimators': [4, 4, 5, 6, 6, 7, 8, 8, 9, 10]},\n",
       "             verbose=2)"
      ]
     },
     "execution_count": 18,
     "metadata": {},
     "output_type": "execute_result"
    }
   ],
   "source": [
    "# Create a basic RF classifier\n",
    "rf_model = RandomForestClassifier()\n",
    "\n",
    "# Create grid search object with specified parameter grid. Perform \n",
    "# cross validation with 8 folds to randomly select combinations of hyperparameters \n",
    "# from random_grid and return the combination that performs the best.\n",
    "rf_grid = GridSearchCV(estimator = rf_model, param_grid = random_grid, cv = 8, verbose = 2, n_jobs = 12)\n",
    "# LOL n_jobs = 12 for the 14 core machine - please change this to something reasonable like 4\n",
    "\n",
    "# Fit classifier to X_train and y_train\n",
    "rf_grid.fit(X_train, y_train)"
   ]
  },
  {
   "cell_type": "code",
   "execution_count": 19,
   "metadata": {},
   "outputs": [],
   "source": [
    "# Create better model with tuned hyperparameters\n",
    "best_model = rf_grid.best_estimator_"
   ]
  },
  {
   "cell_type": "markdown",
   "metadata": {},
   "source": [
    "### Random Forest Results"
   ]
  },
  {
   "cell_type": "code",
   "execution_count": 20,
   "metadata": {},
   "outputs": [
    {
     "name": "stdout",
     "output_type": "stream",
     "text": [
      "Scoring method: roc_auc_ovo score\n",
      "Classifier ROC score: 0.9116545284772707\n",
      "Classifier testing score: 0.7055655296229802\n",
      "Classifier training score: 0.961352657004831\n",
      "Best combination of hyperparameters: \n"
     ]
    },
    {
     "data": {
      "text/plain": [
       "{'bootstrap': False,\n",
       " 'max_depth': 110,\n",
       " 'max_features': 'auto',\n",
       " 'min_samples_leaf': 4,\n",
       " 'min_samples_split': 10,\n",
       " 'n_estimators': 10}"
      ]
     },
     "execution_count": 20,
     "metadata": {},
     "output_type": "execute_result"
    }
   ],
   "source": [
    "print(\"Scoring method: roc_auc_ovo score\")\n",
    "print(\"Classifier ROC score: \" + str(roc_auc_score(y_test, best_model.predict_proba(X_test), multi_class='ovo'))) # prints roc score from training set\n",
    "print(\"Classifier testing score: \" + str(best_model.score(X_test, y_test))) # prints best roc score using all data as test\n",
    "print(\"Classifier training score: \" + str(best_model.score(X_train, y_train)))\n",
    "print(\"Best combination of hyperparameters: \") \n",
    "rf_grid.best_params_ # prints the best combination of hyperparameters for our data set "
   ]
  },
  {
   "cell_type": "code",
   "execution_count": 21,
   "metadata": {
    "scrolled": true
   },
   "outputs": [
    {
     "data": {
      "image/png": "[encoded data removed]",
      "text/plain": [
       "<Figure size 432x288 with 2 Axes>"
      ]
     },
     "metadata": {
      "needs_background": "light"
     },
     "output_type": "display_data"
    }
   ],
   "source": [
    "# Plot the confusion matrix\n",
    "cm = plot_confusion_matrix(best_model, X_test, y_test)"
   ]
  },
  {
   "cell_type": "markdown",
   "metadata": {},
   "source": [
    "# SHAP "
   ]
  },
  {
   "cell_type": "code",
   "execution_count": null,
   "metadata": {},
   "outputs": [],
   "source": [
    "import matplotlib.pyplot as plt\n",
    "explainer = shap.TreeExplainer(best_model)\n",
    "shap_values = explainer.shap_values(X_test)"
   ]
  },
  {
   "cell_type": "markdown",
   "metadata": {
    "scrolled": false
   },
   "source": [
    "shap.initjs()\n",
    "shap.save_html('RandomShap.html',shap.force_plot(explainer.expected_value[1], shap_values[1], X_test, feature_names = data_cleaning.features(train_data),matplotlib=False))"
   ]
  },
  {
   "cell_type": "markdown",
   "metadata": {
    "scrolled": true
   },
   "source": [
    "shap.summary_plot(shap_values, X_test, feature_names = data_cleaning.features(train_data), class_names = ['Rods', 'Sucker Rod Pump', 'Tubing'], show=False)\n",
    "plt.savefig('summaryPlot.png')"
   ]
  },
  {
   "cell_type": "code",
   "execution_count": null,
   "metadata": {},
   "outputs": [],
   "source": []
  }
 ],
 "metadata": {
  "kernelspec": {
   "display_name": "Python 3",
   "language": "python",
   "name": "python3"
  },
  "language_info": {
   "codemirror_mode": {
    "name": "ipython",
    "version": 3
   },
   "file_extension": ".py",
   "mimetype": "text/x-python",
   "name": "python",
   "nbconvert_exporter": "python",
   "pygments_lexer": "ipython3",
   "version": "3.6.9"
  }
 },
 "nbformat": 4,
 "nbformat_minor": 4
}
