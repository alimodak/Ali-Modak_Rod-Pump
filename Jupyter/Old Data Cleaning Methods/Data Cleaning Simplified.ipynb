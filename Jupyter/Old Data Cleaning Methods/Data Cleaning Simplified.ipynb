{
 "cells": [
  {
   "cell_type": "markdown",
   "metadata": {},
   "source": [
    "## Rod Pump Analysis: Data Cleaning (Simplified)"
   ]
  },
  {
   "cell_type": "markdown",
   "metadata": {},
   "source": [
    "### Load data and remove procedural identifiers"
   ]
  },
  {
   "cell_type": "code",
   "execution_count": 1,
   "metadata": {},
   "outputs": [],
   "source": [
    "import pandas as pd"
   ]
  },
  {
   "cell_type": "markdown",
   "metadata": {},
   "source": [
    "Read in data and parse dates"
   ]
  },
  {
   "cell_type": "code",
   "execution_count": 2,
   "metadata": {},
   "outputs": [],
   "source": [
    "raw_data = pd.read_csv('../rodpump_raw.csv', parse_dates=['lifetime_start','lifetime_end'])"
   ]
  },
  {
   "cell_type": "markdown",
   "metadata": {},
   "source": [
    "Create `Lifetime` column which represents total lifetime in days.  \n",
    "Drop `lifetime_start`."
   ]
  },
  {
   "cell_type": "code",
   "execution_count": 3,
   "metadata": {},
   "outputs": [],
   "source": [
    "raw_data['lifetimedays'] = (raw_data['lifetime_end'] - raw_data['lifetime_start']).dt.days\n",
    "del raw_data['FAILSTART']\n",
    "del raw_data['lifetime_start']"
   ]
  },
  {
   "cell_type": "markdown",
   "metadata": {},
   "source": [
    "Delete `NODEID`, `IDWELL`, and `REPORTTO` because they are redundant fields."
   ]
  },
  {
   "cell_type": "code",
   "execution_count": 4,
   "metadata": {},
   "outputs": [],
   "source": [
    "del raw_data['NODEID']\n",
    "del raw_data['IDWELL']\n",
    "del raw_data['REPORTTO']"
   ]
  },
  {
   "cell_type": "markdown",
   "metadata": {},
   "source": [
    "Delete `tbguid` and `IDRECJOBPULL` because they are procedural identifiers."
   ]
  },
  {
   "cell_type": "code",
   "execution_count": 5,
   "metadata": {},
   "outputs": [],
   "source": [
    "del raw_data['tbguid']\n",
    "del raw_data['IDRECJOBPULL']"
   ]
  },
  {
   "cell_type": "markdown",
   "metadata": {},
   "source": [
    "Filter data to only include rods which have failed by removing rows where `FAILURETYPE` is null."
   ]
  },
  {
   "cell_type": "code",
   "execution_count": 6,
   "metadata": {},
   "outputs": [],
   "source": [
    "raw_data = raw_data[raw_data['FAILURETYPE'].notnull()]"
   ]
  },
  {
   "cell_type": "markdown",
   "metadata": {},
   "source": [
    "Since we know from our meeting with Sap and Sarah that the sideload data is important, we will drop rows where the sideload data is null."
   ]
  },
  {
   "cell_type": "code",
   "execution_count": 7,
   "metadata": {},
   "outputs": [],
   "source": [
    "raw_data = raw_data[raw_data['overall_max_sideload'].notnull()]"
   ]
  },
  {
   "cell_type": "markdown",
   "metadata": {},
   "source": [
    "### Considering columns to be dropped because of null values"
   ]
  },
  {
   "cell_type": "code",
   "execution_count": 8,
   "metadata": {},
   "outputs": [],
   "source": [
    "def getPercentNull(df, columnName):\n",
    "    return df[columnName].isnull().sum() / (df[columnName].notnull().sum() + df[columnName].isnull().sum())"
   ]
  },
  {
   "cell_type": "markdown",
   "metadata": {},
   "source": [
    "`AVG_WATERSG` has a significant proportion of null values, so we will drop it from the dataset."
   ]
  },
  {
   "cell_type": "code",
   "execution_count": 9,
   "metadata": {},
   "outputs": [
    {
     "data": {
      "text/plain": [
       "0.2813816343723673"
      ]
     },
     "execution_count": 9,
     "metadata": {},
     "output_type": "execute_result"
    }
   ],
   "source": [
    "getPercentNull(raw_data, 'AVG_WATERSG')"
   ]
  },
  {
   "cell_type": "code",
   "execution_count": 10,
   "metadata": {},
   "outputs": [],
   "source": [
    "del raw_data['AVG_WATERSG']"
   ]
  },
  {
   "cell_type": "markdown",
   "metadata": {},
   "source": [
    "`GrossStrokeLength` has a significant proportion of null values, so we will drop it from the dataset."
   ]
  },
  {
   "cell_type": "code",
   "execution_count": 11,
   "metadata": {},
   "outputs": [
    {
     "data": {
      "text/plain": [
       "0.5096882898062342"
      ]
     },
     "execution_count": 11,
     "metadata": {},
     "output_type": "execute_result"
    }
   ],
   "source": [
    "getPercentNull(raw_data, 'GrossStrokeLength')"
   ]
  },
  {
   "cell_type": "code",
   "execution_count": 12,
   "metadata": {},
   "outputs": [],
   "source": [
    "del raw_data['GrossStrokeLength']"
   ]
  },
  {
   "cell_type": "markdown",
   "metadata": {},
   "source": [
    "`AVG_PRESS_FLOWLINE` also has a significant proportion of null values, so we will drop it from the dataset."
   ]
  },
  {
   "cell_type": "code",
   "execution_count": 13,
   "metadata": {},
   "outputs": [
    {
     "data": {
      "text/plain": [
       "0.3934288121314238"
      ]
     },
     "execution_count": 13,
     "metadata": {},
     "output_type": "execute_result"
    }
   ],
   "source": [
    "getPercentNull(raw_data, 'AVG_PRESS_FLOWLINE')"
   ]
  },
  {
   "cell_type": "code",
   "execution_count": 14,
   "metadata": {},
   "outputs": [],
   "source": [
    "del raw_data['AVG_PRESS_FLOWLINE']"
   ]
  },
  {
   "cell_type": "markdown",
   "metadata": {},
   "source": [
    "### Consider columns to be dropped because of unknown values"
   ]
  },
  {
   "cell_type": "markdown",
   "metadata": {},
   "source": [
    "Drop `gasanchor_od` because most of the non-null values are unknown."
   ]
  },
  {
   "cell_type": "code",
   "execution_count": 15,
   "metadata": {},
   "outputs": [
    {
     "data": {
      "text/plain": [
       "OtherOrUnknown    482\n",
       "4.5               102\n",
       "2.875              91\n",
       "3.5                12\n",
       "Name: gasanchor_od, dtype: int64"
      ]
     },
     "execution_count": 15,
     "metadata": {},
     "output_type": "execute_result"
    }
   ],
   "source": [
    "raw_data['gasanchor_od'].value_counts()"
   ]
  },
  {
   "cell_type": "code",
   "execution_count": 16,
   "metadata": {},
   "outputs": [],
   "source": [
    "del raw_data['gasanchor_od']"
   ]
  },
  {
   "cell_type": "code",
   "execution_count": 17,
   "metadata": {},
   "outputs": [
    {
     "data": {
      "text/plain": [
       "Miller LLC         635\n",
       "UNKNOWN            381\n",
       "Sanchez PLC         94\n",
       "Bender-King         56\n",
       "West-Washington     20\n",
       "Rodriguez PLC        1\n",
       "Name: DESANDDEGAS_TYP, dtype: int64"
      ]
     },
     "execution_count": 17,
     "metadata": {},
     "output_type": "execute_result"
    }
   ],
   "source": [
    "raw_data['DESANDDEGAS_TYP'].value_counts()"
   ]
  },
  {
   "cell_type": "code",
   "execution_count": 18,
   "metadata": {},
   "outputs": [],
   "source": [
    "del raw_data['DESANDDEGAS_TYP']"
   ]
  },
  {
   "cell_type": "markdown",
   "metadata": {},
   "source": [
    "### Consider columns for imputation"
   ]
  },
  {
   "cell_type": "code",
   "execution_count": 19,
   "metadata": {},
   "outputs": [],
   "source": [
    "raw_data['contains_imputed'] = 0"
   ]
  },
  {
   "cell_type": "code",
   "execution_count": 20,
   "metadata": {},
   "outputs": [],
   "source": [
    "def impute_by_failuretype_means(df, columnName):\n",
    "    df['contains_imputed'].where(df[columnName].notnull(), other=1, inplace=True)\n",
    "    for failure_type in df['FAILURETYPE'].value_counts().index.tolist():\n",
    "        notnull_mask = (df['FAILURETYPE'] == failure_type) & (df[columnName].notnull())\n",
    "        null_mask = (df['FAILURETYPE'] == failure_type) & (df[columnName].isnull())\n",
    "        imputed_value = (df[columnName][notnull_mask].mean()).round(3)\n",
    "        print(\"Imputed value for \" + failure_type + \": \" + str(imputed_value))\n",
    "        df[columnName] = df[columnName].fillna(imputed_value)\n",
    "    return df"
   ]
  },
  {
   "cell_type": "markdown",
   "metadata": {},
   "source": [
    "Since our EDA yielded some interesting results with `YesterdaysAverageSPM`, we will impute the missing data instead of dropping the column."
   ]
  },
  {
   "cell_type": "code",
   "execution_count": 21,
   "metadata": {},
   "outputs": [
    {
     "data": {
      "text/plain": [
       "0.3159224936815501"
      ]
     },
     "execution_count": 21,
     "metadata": {},
     "output_type": "execute_result"
    }
   ],
   "source": [
    "getPercentNull(raw_data,'YesterdaysAverageSPM')"
   ]
  },
  {
   "cell_type": "code",
   "execution_count": 22,
   "metadata": {
    "scrolled": false
   },
   "outputs": [
    {
     "name": "stdout",
     "output_type": "stream",
     "text": [
      "Imputed value for Tubing: 5.515\n",
      "Imputed value for Sucker Rod Pump: 5.376\n",
      "Imputed value for Rods: 5.721\n"
     ]
    }
   ],
   "source": [
    "raw_data = impute_by_failuretype_means(raw_data, 'YesterdaysAverageSPM')"
   ]
  },
  {
   "cell_type": "markdown",
   "metadata": {},
   "source": [
    "Consider `max_unguided_dls`, another candidate for imputation:"
   ]
  },
  {
   "cell_type": "code",
   "execution_count": 23,
   "metadata": {
    "scrolled": true
   },
   "outputs": [
    {
     "data": {
      "text/plain": [
       "0.016006739679865205"
      ]
     },
     "execution_count": 23,
     "metadata": {},
     "output_type": "execute_result"
    }
   ],
   "source": [
    "getPercentNull(raw_data,'max_unguided_dls')"
   ]
  },
  {
   "cell_type": "code",
   "execution_count": 24,
   "metadata": {},
   "outputs": [
    {
     "name": "stdout",
     "output_type": "stream",
     "text": [
      "Imputed value for Tubing: 2.469\n",
      "Imputed value for Sucker Rod Pump: 2.008\n",
      "Imputed value for Rods: 2.243\n"
     ]
    }
   ],
   "source": [
    "raw_data = impute_by_failuretype_means(raw_data, 'max_unguided_dls')"
   ]
  },
  {
   "cell_type": "markdown",
   "metadata": {},
   "source": [
    "Consider `dls_high_in_hole` as another another candidate for imputation."
   ]
  },
  {
   "cell_type": "code",
   "execution_count": 25,
   "metadata": {
    "scrolled": true
   },
   "outputs": [
    {
     "name": "stdout",
     "output_type": "stream",
     "text": [
      "Imputed value for Tubing: 2.253\n",
      "Imputed value for Sucker Rod Pump: 1.758\n",
      "Imputed value for Rods: 1.971\n"
     ]
    }
   ],
   "source": [
    "raw_data = impute_by_failuretype_means(raw_data, 'dls_high_in_hole')"
   ]
  },
  {
   "cell_type": "markdown",
   "metadata": {},
   "source": [
    "Consider `MAX_INCLINATION` for imputation."
   ]
  },
  {
   "cell_type": "code",
   "execution_count": 26,
   "metadata": {},
   "outputs": [
    {
     "data": {
      "text/plain": [
       "0.020219039595619208"
      ]
     },
     "execution_count": 26,
     "metadata": {},
     "output_type": "execute_result"
    }
   ],
   "source": [
    "getPercentNull(raw_data,'MAX_INCLINATION')"
   ]
  },
  {
   "cell_type": "code",
   "execution_count": 27,
   "metadata": {},
   "outputs": [
    {
     "name": "stdout",
     "output_type": "stream",
     "text": [
      "Imputed value for Tubing: 4.58\n",
      "Imputed value for Sucker Rod Pump: 3.661\n",
      "Imputed value for Rods: 5.596\n"
     ]
    }
   ],
   "source": [
    "raw_data = impute_by_failuretype_means(raw_data, 'MAX_INCLINATION')"
   ]
  },
  {
   "cell_type": "markdown",
   "metadata": {},
   "source": [
    "Consider `Fillage` for imputation"
   ]
  },
  {
   "cell_type": "code",
   "execution_count": 28,
   "metadata": {},
   "outputs": [
    {
     "data": {
      "text/plain": [
       "0.2392586352148273"
      ]
     },
     "execution_count": 28,
     "metadata": {},
     "output_type": "execute_result"
    }
   ],
   "source": [
    "getPercentNull(raw_data,'Fillage')"
   ]
  },
  {
   "cell_type": "code",
   "execution_count": 29,
   "metadata": {},
   "outputs": [
    {
     "name": "stdout",
     "output_type": "stream",
     "text": [
      "Imputed value for Tubing: 84.228\n",
      "Imputed value for Sucker Rod Pump: 80.459\n",
      "Imputed value for Rods: 83.153\n"
     ]
    }
   ],
   "source": [
    "raw_data = impute_by_failuretype_means(raw_data, 'Fillage')"
   ]
  },
  {
   "cell_type": "markdown",
   "metadata": {},
   "source": [
    "Consider `gas_anchor_length` for imputation."
   ]
  },
  {
   "cell_type": "code",
   "execution_count": 30,
   "metadata": {},
   "outputs": [
    {
     "data": {
      "text/plain": [
       "0.0008424599831508003"
      ]
     },
     "execution_count": 30,
     "metadata": {},
     "output_type": "execute_result"
    }
   ],
   "source": [
    "getPercentNull(raw_data,'gas_anchor_length')"
   ]
  },
  {
   "cell_type": "code",
   "execution_count": 31,
   "metadata": {},
   "outputs": [
    {
     "name": "stdout",
     "output_type": "stream",
     "text": [
      "Imputed value for Tubing: 16.816\n",
      "Imputed value for Sucker Rod Pump: 17.967\n",
      "Imputed value for Rods: 17.339\n"
     ]
    }
   ],
   "source": [
    "raw_data = impute_by_failuretype_means(raw_data, 'gas_anchor_length')"
   ]
  },
  {
   "cell_type": "markdown",
   "metadata": {},
   "source": [
    "Impute `shallow_max_sideload`"
   ]
  },
  {
   "cell_type": "code",
   "execution_count": 32,
   "metadata": {},
   "outputs": [
    {
     "data": {
      "text/plain": [
       "0.0008424599831508003"
      ]
     },
     "execution_count": 32,
     "metadata": {},
     "output_type": "execute_result"
    }
   ],
   "source": [
    "getPercentNull(raw_data,'shallow_max_sideload')"
   ]
  },
  {
   "cell_type": "code",
   "execution_count": 33,
   "metadata": {},
   "outputs": [
    {
     "name": "stdout",
     "output_type": "stream",
     "text": [
      "Imputed value for Tubing: 198.482\n",
      "Imputed value for Sucker Rod Pump: 149.661\n",
      "Imputed value for Rods: 210.06\n"
     ]
    }
   ],
   "source": [
    "raw_data = impute_by_failuretype_means(raw_data, 'shallow_max_sideload')"
   ]
  },
  {
   "cell_type": "markdown",
   "metadata": {},
   "source": [
    "Impute `NIPPLE_SET_DEPTH`"
   ]
  },
  {
   "cell_type": "code",
   "execution_count": 34,
   "metadata": {},
   "outputs": [
    {
     "data": {
      "text/plain": [
       "0.004212299915754001"
      ]
     },
     "execution_count": 34,
     "metadata": {},
     "output_type": "execute_result"
    }
   ],
   "source": [
    "getPercentNull(raw_data,'NIPPLE_SET_DEPTH')"
   ]
  },
  {
   "cell_type": "code",
   "execution_count": 35,
   "metadata": {
    "scrolled": true
   },
   "outputs": [
    {
     "name": "stdout",
     "output_type": "stream",
     "text": [
      "Imputed value for Tubing: 9911.164\n",
      "Imputed value for Sucker Rod Pump: 9854.929\n",
      "Imputed value for Rods: 10030.223\n"
     ]
    }
   ],
   "source": [
    "raw_data = impute_by_failuretype_means(raw_data, 'NIPPLE_SET_DEPTH')"
   ]
  },
  {
   "cell_type": "code",
   "execution_count": 36,
   "metadata": {},
   "outputs": [
    {
     "data": {
      "text/plain": [
       "0    779\n",
       "1    408\n",
       "Name: contains_imputed, dtype: int64"
      ]
     },
     "execution_count": 36,
     "metadata": {},
     "output_type": "execute_result"
    }
   ],
   "source": [
    "raw_data['contains_imputed'].value_counts()"
   ]
  },
  {
   "cell_type": "markdown",
   "metadata": {},
   "source": [
    "### Various other drops"
   ]
  },
  {
   "cell_type": "markdown",
   "metadata": {},
   "source": [
    "Remove row where all pressure values are null."
   ]
  },
  {
   "cell_type": "code",
   "execution_count": 37,
   "metadata": {},
   "outputs": [],
   "source": [
    "mask = ~( raw_data['AVG_PRESSURE_TUBING'].isnull() & raw_data['AVG_PRESSURE_CASING'].isnull() & raw_data['AVG_DIFFERENTIAL_PRESSURE'].isnull())\n",
    "raw_data = raw_data[mask]"
   ]
  },
  {
   "cell_type": "markdown",
   "metadata": {},
   "source": [
    "Remove rows with null `bha_configuration`."
   ]
  },
  {
   "cell_type": "code",
   "execution_count": 38,
   "metadata": {},
   "outputs": [],
   "source": [
    "raw_data = raw_data[raw_data['bha_configuration'].notnull()]"
   ]
  },
  {
   "cell_type": "markdown",
   "metadata": {},
   "source": [
    "### Confirm successful data cleaning using heatmap"
   ]
  },
  {
   "cell_type": "code",
   "execution_count": 39,
   "metadata": {
    "scrolled": true
   },
   "outputs": [
    {
     "data": {
      "text/plain": [
       "<AxesSubplot:>"
      ]
     },
     "execution_count": 39,
     "metadata": {},
     "output_type": "execute_result"
    },
    {
     "data": {
      "image/png": "[encoded data removed]",
      "text/plain": [
       "<Figure size 1800x1080 with 1 Axes>"
      ]
     },
     "metadata": {},
     "output_type": "display_data"
    }
   ],
   "source": [
    "import seaborn as sns\n",
    "%matplotlib inline\n",
    "\n",
    "sns.set(rc={'figure.figsize':(25,15)})\n",
    "sns.heatmap(raw_data.isnull(),yticklabels=False,cbar=False,cmap='viridis')"
   ]
  },
  {
   "cell_type": "code",
   "execution_count": 40,
   "metadata": {},
   "outputs": [
    {
     "data": {
      "text/plain": [
       "0"
      ]
     },
     "execution_count": 40,
     "metadata": {},
     "output_type": "execute_result"
    }
   ],
   "source": [
    "raw_data.isnull().sum().sum()"
   ]
  },
  {
   "cell_type": "code",
   "execution_count": 41,
   "metadata": {},
   "outputs": [
    {
     "data": {
      "text/plain": [
       "(1173, 45)"
      ]
     },
     "execution_count": 41,
     "metadata": {},
     "output_type": "execute_result"
    }
   ],
   "source": [
    "raw_data.shape"
   ]
  },
  {
   "cell_type": "markdown",
   "metadata": {},
   "source": [
    "### Exporting Data to a CSV\n",
    "This cell exports the cleaned data frame to the file `rodpump_cleaned.csv` in the project home directory.  \n",
    "Use wisely, and with caution! Do not uncomment until you are ready to export!"
   ]
  },
  {
   "cell_type": "code",
   "execution_count": 43,
   "metadata": {},
   "outputs": [],
   "source": [
    "# raw_data.to_csv('../rodpump_cleaned.csv',index=False,header=True)"
   ]
  }
 ],
 "metadata": {
  "kernelspec": {
   "display_name": "Python 3",
   "language": "python",
   "name": "python3"
  },
  "language_info": {
   "codemirror_mode": {
    "name": "ipython",
    "version": 3
   },
   "file_extension": ".py",
   "mimetype": "text/x-python",
   "name": "python",
   "nbconvert_exporter": "python",
   "pygments_lexer": "ipython3",
   "version": "3.6.9"
  }
 },
 "nbformat": 4,
 "nbformat_minor": 4
}
