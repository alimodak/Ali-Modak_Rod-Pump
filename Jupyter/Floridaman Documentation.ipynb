{
 "cells": [
  {
   "cell_type": "code",
   "execution_count": 1,
   "metadata": {},
   "outputs": [],
   "source": [
    "from floridaman import data_cleaning\n",
    "import pandas as pd\n",
    "import numpy as np\n",
    "import seaborn as sns"
   ]
  },
  {
   "cell_type": "code",
   "execution_count": 2,
   "metadata": {},
   "outputs": [],
   "source": [
    "# Load data\n",
    "raw_data = data_cleaning.load('null_transformed')"
   ]
  },
  {
   "cell_type": "code",
   "execution_count": 3,
   "metadata": {},
   "outputs": [],
   "source": [
    "# Generate sample dataset with the following parameters\n",
    "# Source dataframe: raw_data\n",
    "# Column drop threshold: 40%\n",
    "# Column impute threshold: 20%\n",
    "# n_neighbors for KNN imputation\n",
    "this_data = data_cleaning.generate_candidate_dataset(raw_data, .40, .35, 5)"
   ]
  },
  {
   "cell_type": "code",
   "execution_count": 4,
   "metadata": {},
   "outputs": [],
   "source": [
    "# Generate X and y dataframes for model input\n",
    "X = np.array(this_data[data_cleaning.features(this_data)])\n",
    "y = np.array(this_data['FAILURETYPE'])"
   ]
  },
  {
   "cell_type": "code",
   "execution_count": 5,
   "metadata": {},
   "outputs": [],
   "source": [
    "from sklearn.neighbors import KNeighborsClassifier\n",
    "from sklearn.model_selection import cross_val_score"
   ]
  },
  {
   "cell_type": "code",
   "execution_count": 8,
   "metadata": {},
   "outputs": [
    {
     "name": "stdout",
     "output_type": "stream",
     "text": [
      "Training progress: \n",
      "********************"
     ]
    }
   ],
   "source": [
    "max_score = 0\n",
    "\n",
    "print(\"Training progress: \", end = '')\n",
    "for COL_DROP in range(1,100,5):\n",
    "    print('*', end = '')\n",
    "    for IMPUTE in range(1, COL_DROP, 1):\n",
    "        for NEIGHBOR in range(1, 20, 2):\n",
    "            COL_DROP = COL_DROP/100\n",
    "            IMPUTE = IMPUTE/100\n",
    "            \n",
    "            knn = KNeighborsClassifier(n_neighbors=NEIGHBOR)\n",
    "            this_score = cross_val_score(knn, X, y, cv=8, scoring='roc_auc_ovo')\n",
    "            this_score = this_score.mean()\n",
    "            \n",
    "            if (this_score > max_score):\n",
    "                best_mode = [COL_DROP, IMPUTE, NEIGHBOR, this_score]"
   ]
  }
 ],
 "metadata": {
  "kernelspec": {
   "display_name": "Python 3",
   "language": "python",
   "name": "python3"
  },
  "language_info": {
   "codemirror_mode": {
    "name": "ipython",
    "version": 3
   },
   "file_extension": ".py",
   "mimetype": "text/x-python",
   "name": "python",
   "nbconvert_exporter": "python",
   "pygments_lexer": "ipython3",
   "version": "3.6.9"
  }
 },
 "nbformat": 4,
 "nbformat_minor": 4
}
