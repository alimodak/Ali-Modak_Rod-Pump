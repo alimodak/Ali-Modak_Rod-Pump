{
 "cells": [
  {
   "cell_type": "code",
   "execution_count": 10,
   "metadata": {},
   "outputs": [],
   "source": [
    "from floridaman import data_cleaning\n",
    "import pandas as pd\n",
    "import numpy as np"
   ]
  },
  {
   "cell_type": "code",
   "execution_count": 11,
   "metadata": {},
   "outputs": [],
   "source": [
    "# Load data\n",
    "raw_data = data_cleaning.load('null_transformed')"
   ]
  },
  {
   "cell_type": "code",
   "execution_count": 12,
   "metadata": {},
   "outputs": [],
   "source": [
    "# Generate sample dataset with the following parameters\n",
    "# Source dataframe: raw_data\n",
    "# Column drop threshold: 40%\n",
    "# Column impute threshold: 20%\n",
    "# n_neighbors for KNN imputation\n",
    "this_data = data_cleaning.generate_candidate_dataset(raw_data, .40, .35, 5)"
   ]
  },
  {
   "cell_type": "code",
   "execution_count": 13,
   "metadata": {},
   "outputs": [],
   "source": [
    "# Generate X and y dataframes for model input\n",
    "X = np.array(this_data[data_cleaning.features(this_data)])\n",
    "y = np.array(this_data['FAILURETYPE'])"
   ]
  },
  {
   "cell_type": "code",
   "execution_count": 14,
   "metadata": {},
   "outputs": [],
   "source": [
    "from sklearn.neighbors import KNeighborsClassifier\n",
    "from sklearn.model_selection import cross_val_score"
   ]
  },
  {
   "cell_type": "markdown",
   "metadata": {},
   "source": [
    "max_score = 0\n",
    "\n",
    "print(\"Training progress: \", end = '')\n",
    "for COL_DROP in range(1,100,5):\n",
    "    print('*', end = '')\n",
    "    for IMPUTE in range(1, COL_DROP, 1):\n",
    "        for NEIGHBOR in range(1, 20, 2):\n",
    "            COL_DROP = COL_DROP/100\n",
    "            IMPUTE = IMPUTE/100\n",
    "            \n",
    "            knn = KNeighborsClassifier(n_neighbors=NEIGHBOR)\n",
    "            this_score = cross_val_score(knn, X, y, cv=8, scoring='roc_auc_ovo')\n",
    "            this_score = this_score.mean()\n",
    "            \n",
    "            if (this_score > max_score):\n",
    "                best_mode = [COL_DROP, IMPUTE, NEIGHBOR, this_score]"
   ]
  },
  {
   "cell_type": "code",
   "execution_count": 15,
   "metadata": {},
   "outputs": [],
   "source": [
    "this_sample = data_cleaning.balance(this_data)"
   ]
  },
  {
   "cell_type": "code",
   "execution_count": 16,
   "metadata": {},
   "outputs": [
    {
     "data": {
      "text/plain": [
       "2    161\n",
       "1    161\n",
       "0    161\n",
       "Name: FAILURETYPE, dtype: int64"
      ]
     },
     "execution_count": 16,
     "metadata": {},
     "output_type": "execute_result"
    }
   ],
   "source": [
    "this_sample['FAILURETYPE'].value_counts()"
   ]
  },
  {
   "cell_type": "code",
   "execution_count": 17,
   "metadata": {},
   "outputs": [
    {
     "data": {
      "text/html": [
       "<div>\n",
       "<style scoped>\n",
       "    .dataframe tbody tr th:only-of-type {\n",
       "        vertical-align: middle;\n",
       "    }\n",
       "\n",
       "    .dataframe tbody tr th {\n",
       "        vertical-align: top;\n",
       "    }\n",
       "\n",
       "    .dataframe thead th {\n",
       "        text-align: right;\n",
       "    }\n",
       "</style>\n",
       "<table border=\"1\" class=\"dataframe\">\n",
       "  <thead>\n",
       "    <tr style=\"text-align: right;\">\n",
       "      <th></th>\n",
       "      <th>roduid</th>\n",
       "      <th>UWI</th>\n",
       "      <th>lifetime_start</th>\n",
       "      <th>lifetime_end</th>\n",
       "      <th>FAILURETYPE</th>\n",
       "      <th>H2S_CONCENTRATION</th>\n",
       "      <th>PrimarySetpoint</th>\n",
       "      <th>SecondarySetpoint</th>\n",
       "      <th>StrokeLength</th>\n",
       "      <th>Fillage</th>\n",
       "      <th>...</th>\n",
       "      <th>rod_make</th>\n",
       "      <th>rod_apigrade</th>\n",
       "      <th>ROUTE</th>\n",
       "      <th>overall_max_sideload</th>\n",
       "      <th>shallow_max_sideload</th>\n",
       "      <th>max_unguided_sideload</th>\n",
       "      <th>DESANDDEGAS_TYP</th>\n",
       "      <th>NIPPLE_SET_DEPTH</th>\n",
       "      <th>pump_bore</th>\n",
       "      <th>lifetime</th>\n",
       "    </tr>\n",
       "  </thead>\n",
       "  <tbody>\n",
       "  </tbody>\n",
       "</table>\n",
       "<p>0 rows × 45 columns</p>\n",
       "</div>"
      ],
      "text/plain": [
       "Empty DataFrame\n",
       "Columns: [roduid, UWI, lifetime_start, lifetime_end, FAILURETYPE, H2S_CONCENTRATION, PrimarySetpoint, SecondarySetpoint, StrokeLength, Fillage, YesterdaysAverageSPM, bha_configuration, chemgroup1_any, chemgroup1_all, chemgroup2_any, chemgroup2_all, chemgroup3_any, chemgroup3_all, max_unguided_dls, dls_high_in_hole, gas_anchor_length, MAX_INCLINATION, wellbore_category, manual_scale, packer_vs_tac, AVG_PRESS_FLOWLINE, AVG_PRESSURE_TUBING, AVG_PRESSURE_CASING, AVG_DIFFERENTIAL_PRESSURE, AVG_OIL_VOLUME, AVG_WATER_VOLUME, AVG_LIQUID_VOLUME, AVG_WATERSG, rod_sinker_type, rod_has_guides, rod_make, rod_apigrade, ROUTE, overall_max_sideload, shallow_max_sideload, max_unguided_sideload, DESANDDEGAS_TYP, NIPPLE_SET_DEPTH, pump_bore, lifetime]\n",
       "Index: []\n",
       "\n",
       "[0 rows x 45 columns]"
      ]
     },
     "execution_count": 17,
     "metadata": {},
     "output_type": "execute_result"
    }
   ],
   "source": [
    "data_cleaning.fullNormData(this_data)"
   ]
  },
  {
   "cell_type": "code",
   "execution_count": null,
   "metadata": {},
   "outputs": [],
   "source": []
  }
 ],
 "metadata": {
  "kernelspec": {
   "display_name": "Python 3",
   "language": "python",
   "name": "python3"
  },
  "language_info": {
   "codemirror_mode": {
    "name": "ipython",
    "version": 3
   },
   "file_extension": ".py",
   "mimetype": "text/x-python",
   "name": "python",
   "nbconvert_exporter": "python",
   "pygments_lexer": "ipython3",
   "version": "3.8.6"
  }
 },
 "nbformat": 4,
 "nbformat_minor": 4
}
