{
 "cells": [
  {
   "cell_type": "code",
   "execution_count": 1,
   "metadata": {},
   "outputs": [
    {
     "ename": "SyntaxError",
     "evalue": "invalid syntax (data_cleaning.py, line 87)",
     "output_type": "error",
     "traceback": [
      "Traceback \u001b[1;36m(most recent call last)\u001b[0m:\n",
      "  File \u001b[0;32m\"c:\\python38\\lib\\site-packages\\IPython\\core\\interactiveshell.py\"\u001b[0m, line \u001b[0;32m3417\u001b[0m, in \u001b[0;35mrun_code\u001b[0m\n    exec(code_obj, self.user_global_ns, self.user_ns)\n",
      "\u001b[1;36m  File \u001b[1;32m\"<ipython-input-1-0f3cb1b3a62d>\"\u001b[1;36m, line \u001b[1;32m1\u001b[1;36m, in \u001b[1;35m<module>\u001b[1;36m\u001b[0m\n\u001b[1;33m    from floridaman import data_cleaning\u001b[0m\n",
      "\u001b[1;36m  File \u001b[1;32m\"C:\\Users\\prest\\Desktop\\All My UT Stuff\\Fall 2020\\Inventors Course\\rodpump\\Jupyter\\floridaman\\data_cleaning.py\"\u001b[1;36m, line \u001b[1;32m87\u001b[0m\n\u001b[1;33m    if (SRP.index < Rods.index) && (SRP.index < Tubing.index):\u001b[0m\n\u001b[1;37m                                 ^\u001b[0m\n\u001b[1;31mSyntaxError\u001b[0m\u001b[1;31m:\u001b[0m invalid syntax\n"
     ]
    }
   ],
   "source": [
    "from floridaman import data_cleaning\n",
    "import pandas as pd\n",
    "import numpy as np"
   ]
  },
  {
   "cell_type": "code",
   "execution_count": null,
   "metadata": {},
   "outputs": [],
   "source": [
    "# Load data\n",
    "raw_data = data_cleaning.load('null_transformed')"
   ]
  },
  {
   "cell_type": "code",
   "execution_count": null,
   "metadata": {},
   "outputs": [],
   "source": [
    "# Generate sample dataset with the following parameters\n",
    "# Source dataframe: raw_data\n",
    "# Column drop threshold: 40%\n",
    "# Column impute threshold: 20%\n",
    "# n_neighbors for KNN imputation\n",
    "this_data = data_cleaning.generate_candidate_dataset(raw_data, .40, .35, 5)"
   ]
  },
  {
   "cell_type": "code",
   "execution_count": null,
   "metadata": {},
   "outputs": [],
   "source": [
    "# Generate X and y dataframes for model input\n",
    "X = np.array(this_data[data_cleaning.features(this_data)])\n",
    "y = np.array(this_data['FAILURETYPE'])"
   ]
  },
  {
   "cell_type": "code",
   "execution_count": null,
   "metadata": {},
   "outputs": [],
   "source": [
    "from sklearn.neighbors import KNeighborsClassifier\n",
    "from sklearn.model_selection import cross_val_score"
   ]
  },
  {
   "cell_type": "markdown",
   "metadata": {},
   "source": [
    "max_score = 0\n",
    "\n",
    "print(\"Training progress: \", end = '')\n",
    "for COL_DROP in range(1,100,5):\n",
    "    print('*', end = '')\n",
    "    for IMPUTE in range(1, COL_DROP, 1):\n",
    "        for NEIGHBOR in range(1, 20, 2):\n",
    "            COL_DROP = COL_DROP/100\n",
    "            IMPUTE = IMPUTE/100\n",
    "            \n",
    "            knn = KNeighborsClassifier(n_neighbors=NEIGHBOR)\n",
    "            this_score = cross_val_score(knn, X, y, cv=8, scoring='roc_auc_ovo')\n",
    "            this_score = this_score.mean()\n",
    "            \n",
    "            if (this_score > max_score):\n",
    "                best_mode = [COL_DROP, IMPUTE, NEIGHBOR, this_score]"
   ]
  },
  {
   "cell_type": "code",
   "execution_count": null,
   "metadata": {},
   "outputs": [],
   "source": [
    "this_sample = data_cleaning.balance(this_data)"
   ]
  },
  {
   "cell_type": "code",
   "execution_count": null,
   "metadata": {},
   "outputs": [],
   "source": [
    "this_sample['FAILURETYPE'].value_counts()"
   ]
  },
  {
   "cell_type": "code",
   "execution_count": null,
   "metadata": {},
   "outputs": [],
   "source": [
    "data_cleaning.fullNormData(this_data)"
   ]
  },
  {
   "cell_type": "code",
   "execution_count": null,
   "metadata": {},
   "outputs": [],
   "source": []
  }
 ],
 "metadata": {
  "kernelspec": {
   "display_name": "Python 3",
   "language": "python",
   "name": "python3"
  },
  "language_info": {
   "codemirror_mode": {
    "name": "ipython",
    "version": 3
   },
   "file_extension": ".py",
   "mimetype": "text/x-python",
   "name": "python",
   "nbconvert_exporter": "python",
   "pygments_lexer": "ipython3",
   "version": "3.8.6"
  }
 },
 "nbformat": 4,
 "nbformat_minor": 4
}
