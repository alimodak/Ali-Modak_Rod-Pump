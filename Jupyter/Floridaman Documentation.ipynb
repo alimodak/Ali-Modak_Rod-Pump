{
 "cells": [
  {
   "cell_type": "code",
   "execution_count": 1,
   "metadata": {},
   "outputs": [],
   "source": [
    "from floridaman import data_cleaning\n",
    "import pandas as pd\n",
    "import numpy as np\n",
    "import seaborn as sns"
   ]
  },
  {
   "cell_type": "code",
   "execution_count": 2,
   "metadata": {},
   "outputs": [],
   "source": [
    "# Load data\n",
    "raw_data = data_cleaning.load('null_transformed')"
   ]
  },
  {
   "cell_type": "code",
   "execution_count": 3,
   "metadata": {},
   "outputs": [],
   "source": [
    "from sklearn.neighbors import KNeighborsClassifier\n",
    "from sklearn.model_selection import cross_val_predict\n",
    "from sklearn.model_selection import cross_val_score"
   ]
  },
  {
   "cell_type": "code",
   "execution_count": 4,
   "metadata": {
    "scrolled": true
   },
   "outputs": [
    {
     "name": "stdout",
     "output_type": "stream",
     "text": [
      "Training progress: ********************"
     ]
    }
   ],
   "source": [
    "max_score = 0\n",
    "\n",
    "print(\"Training progress: \", end = '')\n",
    "for COL_DROP in range(1,100,5):\n",
    "    print('*', end = '')\n",
    "    for IMPUTE in range(1, COL_DROP, 5):\n",
    "        for NEIGHBOR in range(1, 20, 5):\n",
    "            COL_DROP = COL_DROP/100\n",
    "            IMPUTE = IMPUTE/100\n",
    "            \n",
    "            try:\n",
    "                this_data = data_cleaning.generate_candidate_dataset(raw_data, COL_DROP, IMPUTE, NEIGHBOR)\n",
    "\n",
    "                this_data = data_cleaning.balance(this_data)\n",
    "\n",
    "                X = np.array(this_data[data_cleaning.features(this_data)])\n",
    "                y = np.array(this_data['FAILURETYPE'])\n",
    "\n",
    "                knn = KNeighborsClassifier(n_neighbors=NEIGHBOR)\n",
    "                this_score = cross_val_score(knn, X, y, cv=8, scoring='roc_auc_ovo')\n",
    "                this_score = this_score.mean()\n",
    "\n",
    "                if (this_score > max_score):\n",
    "\n",
    "                    best_mode = [knn, COL_DROP, IMPUTE, NEIGHBOR, this_score]\n",
    "            except:\n",
    "                print(\"Iteration with parameters COL_DROP=\" + COL_DROP + \", IMPUTE=\" + IMPUTE + \"failed.\")"
   ]
  },
  {
   "cell_type": "code",
   "execution_count": 19,
   "metadata": {},
   "outputs": [
    {
     "data": {
      "text/plain": [
       "[KNeighborsClassifier(), 0.36, 0.8, 5, 0.6296233974358973]"
      ]
     },
     "execution_count": 19,
     "metadata": {},
     "output_type": "execute_result"
    }
   ],
   "source": [
    "COL_DROP = .36\n",
    "IMPUTE = .8\n",
    "NEIGHBOR = 5\n",
    "\n",
    "this_data = data_cleaning.generate_candidate_dataset(raw_data, COL_DROP, IMPUTE, NEIGHBOR)\n",
    "\n",
    "this_data = data_cleaning.balance(this_data)\n",
    "\n",
    "X = np.array(this_data[data_cleaning.features(this_data)])\n",
    "y = np.array(this_data['FAILURETYPE'])\n",
    "\n",
    "knn = KNeighborsClassifier(n_neighbors=NEIGHBOR)\n",
    "this_score = cross_val_score(knn, X, y, cv=8, scoring='roc_auc_ovo')\n",
    "this_score = this_score.mean()\n",
    "\n",
    "best_mode = [knn, COL_DROP, IMPUTE, NEIGHBOR, this_score]\n",
    "\n",
    "best_mode"
   ]
  },
  {
   "cell_type": "code",
   "execution_count": 5,
   "metadata": {},
   "outputs": [],
   "source": [
    "from sklearn.metrics import confusion_matrix"
   ]
  },
  {
   "cell_type": "code",
   "execution_count": 9,
   "metadata": {},
   "outputs": [
    {
     "data": {
      "text/plain": [
       "<AxesSubplot:>"
      ]
     },
     "execution_count": 9,
     "metadata": {},
     "output_type": "execute_result"
    },
    {
     "data": {
      "image/png": "[encoded data removed]",
      "text/plain": [
       "<Figure size 432x288 with 2 Axes>"
      ]
     },
     "metadata": {
      "needs_background": "light"
     },
     "output_type": "display_data"
    }
   ],
   "source": [
    "y_pred = cross_val_predict(best_mode[0], X, y, cv=best_mode[3])\n",
    "\n",
    "conf_mat = confusion_matrix(y, y_pred)\n",
    "sns.heatmap(conf_mat, annot=True)"
   ]
  },
  {
   "cell_type": "code",
   "execution_count": 10,
   "metadata": {},
   "outputs": [
    {
     "data": {
      "text/plain": [
       "0.623192184418146"
      ]
     },
     "execution_count": 10,
     "metadata": {},
     "output_type": "execute_result"
    }
   ],
   "source": [
    "best_mode[4]"
   ]
  }
 ],
 "metadata": {
  "kernelspec": {
   "display_name": "Python 3",
   "language": "python",
   "name": "python3"
  },
  "language_info": {
   "codemirror_mode": {
    "name": "ipython",
    "version": 3
   },
   "file_extension": ".py",
   "mimetype": "text/x-python",
   "name": "python",
   "nbconvert_exporter": "python",
   "pygments_lexer": "ipython3",
   "version": "3.6.9"
  }
 },
 "nbformat": 4,
 "nbformat_minor": 4
}
