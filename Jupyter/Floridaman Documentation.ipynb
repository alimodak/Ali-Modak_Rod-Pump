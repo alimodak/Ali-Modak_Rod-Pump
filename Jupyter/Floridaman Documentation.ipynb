{
 "cells": [
  {
   "cell_type": "code",
   "execution_count": 1,
   "metadata": {},
   "outputs": [],
   "source": [
    "from floridaman import data_cleaning\n",
    "import pandas as pd\n",
    "import numpy as np"
   ]
  },
  {
   "cell_type": "code",
   "execution_count": 2,
   "metadata": {},
   "outputs": [],
   "source": [
    "raw_data = data_cleaning.load('null_transformed')"
   ]
  },
  {
   "cell_type": "code",
   "execution_count": 3,
   "metadata": {},
   "outputs": [],
   "source": [
    "from sklearn.neighbors import KNeighborsClassifier\n",
    "from sklearn.model_selection import cross_val_score\n",
    "from sklearn.model_selection import cross_val_predict\n",
    "from sklearn.metrics import confusion_matrix\n",
    "import seaborn as sns"
   ]
  },
  {
   "cell_type": "code",
   "execution_count": 39,
   "metadata": {},
   "outputs": [
    {
     "name": "stdout",
     "output_type": "stream",
     "text": [
      "0.6273541972974865\n"
     ]
    },
    {
     "data": {
      "image/png": "[encoded data removed]",
      "text/plain": [
       "<Figure size 432x288 with 2 Axes>"
      ]
     },
     "metadata": {
      "needs_background": "light"
     },
     "output_type": "display_data"
    }
   ],
   "source": [
    "this_data = data_cleaning.generate_candidate_dataset(raw_data, .43, .43, 9)\n",
    "this_data = data_cleaning.balance(this_data)\n",
    "\n",
    "X = np.array(this_data[data_cleaning.features(this_data)])\n",
    "y = np.array(this_data['FAILURETYPE'])\n",
    "\n",
    "knn = KNeighborsClassifier(n_neighbors=5)\n",
    "this_score = cross_val_score(knn, X, y, cv=9, scoring='roc_auc_ovo')\n",
    "y_pred = cross_val_predict(knn, X, y, cv=8)\n",
    "\n",
    "conf_mat = confusion_matrix(y, y_pred)\n",
    "sns.heatmap(conf_mat, annot=True)\n",
    "print(this_score.mean())"
   ]
  }
 ],
 "metadata": {
  "kernelspec": {
   "display_name": "Python 3",
   "language": "python",
   "name": "python3"
  },
  "language_info": {
   "codemirror_mode": {
    "name": "ipython",
    "version": 3
   },
   "file_extension": ".py",
   "mimetype": "text/x-python",
   "name": "python",
   "nbconvert_exporter": "python",
   "pygments_lexer": "ipython3",
   "version": "3.6.9"
  }
 },
 "nbformat": 4,
 "nbformat_minor": 4
}
