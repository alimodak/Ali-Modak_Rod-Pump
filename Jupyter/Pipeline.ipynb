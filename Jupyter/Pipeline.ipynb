{
 "cells": [
  {
   "cell_type": "code",
   "execution_count": 1,
   "metadata": {},
   "outputs": [],
   "source": [
    "import pandas as pd\n",
    "import numpy as np\n",
    "import seaborn as sns"
   ]
  },
  {
   "cell_type": "code",
   "execution_count": 2,
   "metadata": {},
   "outputs": [],
   "source": [
    "raw_data = pd.read_csv('../data/transformed_raw.csv', parse_dates=['lifetime_start','lifetime_end'])"
   ]
  },
  {
   "cell_type": "code",
   "execution_count": 3,
   "metadata": {},
   "outputs": [],
   "source": [
    "def getPercentNull(df, columnName):\n",
    "    return df[columnName].isnull().sum() / (df[columnName].notnull().sum() + df[columnName].isnull().sum())"
   ]
  },
  {
   "cell_type": "code",
   "execution_count": 4,
   "metadata": {},
   "outputs": [],
   "source": [
    "from sklearn.preprocessing import LabelEncoder\n",
    "\n",
    "def encode(df, column):\n",
    "    le = LabelEncoder()\n",
    "    df[column] = le.fit_transform(df[column])\n",
    "    \n",
    "    # classes = list(le.classes_)\n",
    "    # print(column + \":\")\n",
    "    # for key in range(len(classes)):\n",
    "        # print('[' + str(key) + '] ' + str(classes[key]))\n",
    "    # print('')\n",
    "    return df"
   ]
  },
  {
   "cell_type": "code",
   "execution_count": 5,
   "metadata": {},
   "outputs": [],
   "source": [
    "def generate_candidate_dataset(data_in, COLUMN_DROP_THRESHOLD, COLUMN_IMPUTE_THRESHOLD):\n",
    "    this_data = data_in.copy()\n",
    "    for column in this_data:\n",
    "        this_percent_null = getPercentNull(this_data, column)\n",
    "    \n",
    "        if (this_percent_null >= COLUMN_DROP_THRESHOLD):\n",
    "            del this_data[column]\n",
    "        elif (this_percent_null >= COLUMN_IMPUTE_THRESHOLD):\n",
    "            this_data.dropna(subset=[column], axis=0, inplace=True)\n",
    "        else:\n",
    "            # ADD IMPUTE FUNCTION HERE\n",
    "            pass\n",
    "\n",
    "    return this_data"
   ]
  },
  {
   "cell_type": "code",
   "execution_count": 6,
   "metadata": {
    "scrolled": false
   },
   "outputs": [
    {
     "data": {
      "text/html": [
       "<div>\n",
       "<style scoped>\n",
       "    .dataframe tbody tr th:only-of-type {\n",
       "        vertical-align: middle;\n",
       "    }\n",
       "\n",
       "    .dataframe tbody tr th {\n",
       "        vertical-align: top;\n",
       "    }\n",
       "\n",
       "    .dataframe thead th {\n",
       "        text-align: right;\n",
       "    }\n",
       "</style>\n",
       "<table border=\"1\" class=\"dataframe\">\n",
       "  <thead>\n",
       "    <tr style=\"text-align: right;\">\n",
       "      <th></th>\n",
       "      <th>roduid</th>\n",
       "      <th>UWI</th>\n",
       "      <th>lifetime_start</th>\n",
       "      <th>lifetime_end</th>\n",
       "      <th>FAILURETYPE</th>\n",
       "      <th>H2S_CONCENTRATION</th>\n",
       "      <th>PrimarySetpoint</th>\n",
       "      <th>SecondarySetpoint</th>\n",
       "      <th>StrokeLength</th>\n",
       "      <th>GrossStrokeLength</th>\n",
       "      <th>...</th>\n",
       "      <th>shallow_max_sideload</th>\n",
       "      <th>max_unguided_sideload</th>\n",
       "      <th>DESANDDEGAS_TYP</th>\n",
       "      <th>CHROME_LENGTH</th>\n",
       "      <th>ENDURALLOY_LENGTH</th>\n",
       "      <th>POLY_LENGTH</th>\n",
       "      <th>NIPPLE_SET_DEPTH</th>\n",
       "      <th>pump_bore</th>\n",
       "      <th>gasanchor_od</th>\n",
       "      <th>lifetime</th>\n",
       "    </tr>\n",
       "  </thead>\n",
       "  <tbody>\n",
       "    <tr>\n",
       "      <th>0</th>\n",
       "      <td>GB42ZGOU04727141361583</td>\n",
       "      <td>005-64-9456</td>\n",
       "      <td>2019-07-16</td>\n",
       "      <td>2020-02-13</td>\n",
       "      <td>Tubing</td>\n",
       "      <td>0.0</td>\n",
       "      <td>80.0</td>\n",
       "      <td>65.0</td>\n",
       "      <td>165.878957</td>\n",
       "      <td>174.734193</td>\n",
       "      <td>...</td>\n",
       "      <td>174.27</td>\n",
       "      <td>174.27</td>\n",
       "      <td>Miller LLC</td>\n",
       "      <td>NaN</td>\n",
       "      <td>NaN</td>\n",
       "      <td>1167.96</td>\n",
       "      <td>8893.9</td>\n",
       "      <td>2.00</td>\n",
       "      <td>4.5</td>\n",
       "      <td>212</td>\n",
       "    </tr>\n",
       "    <tr>\n",
       "      <th>1</th>\n",
       "      <td>GB87DDTZ53468840486615</td>\n",
       "      <td>006-40-5581</td>\n",
       "      <td>2006-02-07</td>\n",
       "      <td>2006-09-22</td>\n",
       "      <td>Sucker Rod Pump</td>\n",
       "      <td>0.0</td>\n",
       "      <td>75.0</td>\n",
       "      <td>60.0</td>\n",
       "      <td>144.000000</td>\n",
       "      <td>NaN</td>\n",
       "      <td>...</td>\n",
       "      <td>NaN</td>\n",
       "      <td>NaN</td>\n",
       "      <td>Miller LLC</td>\n",
       "      <td>NaN</td>\n",
       "      <td>NaN</td>\n",
       "      <td>NaN</td>\n",
       "      <td>9085.2</td>\n",
       "      <td>1.75</td>\n",
       "      <td>NaN</td>\n",
       "      <td>227</td>\n",
       "    </tr>\n",
       "    <tr>\n",
       "      <th>2</th>\n",
       "      <td>GB30HELP48302296915492</td>\n",
       "      <td>006-40-5581</td>\n",
       "      <td>2006-09-23</td>\n",
       "      <td>2009-06-25</td>\n",
       "      <td>Sucker Rod Pump</td>\n",
       "      <td>0.0</td>\n",
       "      <td>75.0</td>\n",
       "      <td>60.0</td>\n",
       "      <td>144.000000</td>\n",
       "      <td>NaN</td>\n",
       "      <td>...</td>\n",
       "      <td>NaN</td>\n",
       "      <td>NaN</td>\n",
       "      <td>Miller LLC</td>\n",
       "      <td>NaN</td>\n",
       "      <td>NaN</td>\n",
       "      <td>NaN</td>\n",
       "      <td>9085.2</td>\n",
       "      <td>1.50</td>\n",
       "      <td>NaN</td>\n",
       "      <td>1006</td>\n",
       "    </tr>\n",
       "    <tr>\n",
       "      <th>3</th>\n",
       "      <td>GB73EZQN38331541380411</td>\n",
       "      <td>006-57-3389</td>\n",
       "      <td>2017-10-18</td>\n",
       "      <td>2018-05-15</td>\n",
       "      <td>Tubing</td>\n",
       "      <td>0.0</td>\n",
       "      <td>70.0</td>\n",
       "      <td>65.0</td>\n",
       "      <td>165.761084</td>\n",
       "      <td>165.840171</td>\n",
       "      <td>...</td>\n",
       "      <td>NaN</td>\n",
       "      <td>NaN</td>\n",
       "      <td>Miller LLC</td>\n",
       "      <td>NaN</td>\n",
       "      <td>NaN</td>\n",
       "      <td>NaN</td>\n",
       "      <td>11505.2</td>\n",
       "      <td>1.25</td>\n",
       "      <td>NaN</td>\n",
       "      <td>209</td>\n",
       "    </tr>\n",
       "    <tr>\n",
       "      <th>4</th>\n",
       "      <td>GB71WFOX64096101197026</td>\n",
       "      <td>006-57-3389</td>\n",
       "      <td>2018-05-18</td>\n",
       "      <td>2018-07-18</td>\n",
       "      <td>Sucker Rod Pump</td>\n",
       "      <td>0.0</td>\n",
       "      <td>70.0</td>\n",
       "      <td>65.0</td>\n",
       "      <td>168.259995</td>\n",
       "      <td>156.448266</td>\n",
       "      <td>...</td>\n",
       "      <td>NaN</td>\n",
       "      <td>NaN</td>\n",
       "      <td>Miller LLC</td>\n",
       "      <td>NaN</td>\n",
       "      <td>NaN</td>\n",
       "      <td>NaN</td>\n",
       "      <td>11387.1</td>\n",
       "      <td>1.25</td>\n",
       "      <td>NaN</td>\n",
       "      <td>61</td>\n",
       "    </tr>\n",
       "  </tbody>\n",
       "</table>\n",
       "<p>5 rows × 50 columns</p>\n",
       "</div>"
      ],
      "text/plain": [
       "                   roduid          UWI lifetime_start lifetime_end  \\\n",
       "0  GB42ZGOU04727141361583  005-64-9456     2019-07-16   2020-02-13   \n",
       "1  GB87DDTZ53468840486615  006-40-5581     2006-02-07   2006-09-22   \n",
       "2  GB30HELP48302296915492  006-40-5581     2006-09-23   2009-06-25   \n",
       "3  GB73EZQN38331541380411  006-57-3389     2017-10-18   2018-05-15   \n",
       "4  GB71WFOX64096101197026  006-57-3389     2018-05-18   2018-07-18   \n",
       "\n",
       "       FAILURETYPE  H2S_CONCENTRATION  PrimarySetpoint  SecondarySetpoint  \\\n",
       "0           Tubing                0.0             80.0               65.0   \n",
       "1  Sucker Rod Pump                0.0             75.0               60.0   \n",
       "2  Sucker Rod Pump                0.0             75.0               60.0   \n",
       "3           Tubing                0.0             70.0               65.0   \n",
       "4  Sucker Rod Pump                0.0             70.0               65.0   \n",
       "\n",
       "   StrokeLength  GrossStrokeLength  ...  shallow_max_sideload  \\\n",
       "0    165.878957         174.734193  ...                174.27   \n",
       "1    144.000000                NaN  ...                   NaN   \n",
       "2    144.000000                NaN  ...                   NaN   \n",
       "3    165.761084         165.840171  ...                   NaN   \n",
       "4    168.259995         156.448266  ...                   NaN   \n",
       "\n",
       "   max_unguided_sideload DESANDDEGAS_TYP  CHROME_LENGTH  ENDURALLOY_LENGTH  \\\n",
       "0                 174.27      Miller LLC            NaN                NaN   \n",
       "1                    NaN      Miller LLC            NaN                NaN   \n",
       "2                    NaN      Miller LLC            NaN                NaN   \n",
       "3                    NaN      Miller LLC            NaN                NaN   \n",
       "4                    NaN      Miller LLC            NaN                NaN   \n",
       "\n",
       "   POLY_LENGTH  NIPPLE_SET_DEPTH  pump_bore  gasanchor_od  lifetime  \n",
       "0      1167.96            8893.9       2.00           4.5       212  \n",
       "1          NaN            9085.2       1.75           NaN       227  \n",
       "2          NaN            9085.2       1.50           NaN      1006  \n",
       "3          NaN           11505.2       1.25           NaN       209  \n",
       "4          NaN           11387.1       1.25           NaN        61  \n",
       "\n",
       "[5 rows x 50 columns]"
      ]
     },
     "execution_count": 6,
     "metadata": {},
     "output_type": "execute_result"
    }
   ],
   "source": [
    "raw_data.head()"
   ]
  },
  {
   "cell_type": "code",
   "execution_count": 7,
   "metadata": {},
   "outputs": [],
   "source": [
    "categorical_columns = ['bha_configuration',\n",
    "                      'wellbore_category',\n",
    "                       'packer_vs_tac',\n",
    "                       'rod_sinker_type',\n",
    "                       'manual_scale',\n",
    "                       'rod_make',\n",
    "                       'rod_apigrade',\n",
    "                       'DESANDDEGAS_TYP',\n",
    "                       'rod_has_guides',\n",
    "                       'FAILURETYPE'\n",
    "                      ]"
   ]
  },
  {
   "cell_type": "code",
   "execution_count": 8,
   "metadata": {},
   "outputs": [],
   "source": [
    "from sklearn.model_selection import train_test_split\n",
    "from sklearn.neighbors import KNeighborsClassifier\n",
    "from sklearn.preprocessing import StandardScaler\n",
    "from sklearn.model_selection import cross_val_score\n",
    "from sklearn.svm import SVC\n",
    "from sklearn import metrics"
   ]
  },
  {
   "cell_type": "code",
   "execution_count": 9,
   "metadata": {},
   "outputs": [],
   "source": [
    "def run_svc_iteration(df, COLUMN_DROP_THRESHOLD, COLUMN_IMPUTE_THRESHOLD):\n",
    "\n",
    "    this_data = generate_candidate_dataset(df, COLUMN_DROP_THRESHOLD, COLUMN_IMPUTE_THRESHOLD)\n",
    "\n",
    "    for column in this_data:\n",
    "        if (column in categorical_columns):\n",
    "            encode(this_data, column)\n",
    "\n",
    "    features = list(this_data)\n",
    "    features.remove('FAILURETYPE')\n",
    "    features.remove('roduid')\n",
    "    features.remove('UWI')\n",
    "    features.remove('lifetime_start')\n",
    "    features.remove('lifetime_end')\n",
    "\n",
    "    X = np.array(this_data[features])\n",
    "    y = np.array(this_data['FAILURETYPE'])\n",
    "\n",
    "    X_train, X_test, y_train, y_test = train_test_split(X, y, test_size=0.2, random_state=42)\n",
    "    reg_svc = SVC(gamma='auto')\n",
    "    reg_svc.fit(X_train, y_train)\n",
    "    y_pred = reg_svc.predict(X_test)\n",
    "    return metrics.accuracy_score(y_test, y_pred)"
   ]
  },
  {
   "cell_type": "code",
   "execution_count": 10,
   "metadata": {},
   "outputs": [],
   "source": [
    "def run_knn_iteration(df, COLUMN_DROP_THRESHOLD, COLUMN_IMPUTE_THRESHOLD, K_VALUES):\n",
    "    this_data = generate_candidate_dataset(df, COLUMN_DROP_THRESHOLD, COLUMN_IMPUTE_THRESHOLD)\n",
    "    \n",
    "    for column in this_data:\n",
    "        if (column in categorical_columns):\n",
    "            encode(this_data, column)\n",
    "            \n",
    "    features = list(this_data)\n",
    "    features.remove('FAILURETYPE')\n",
    "    features.remove('roduid')\n",
    "    features.remove('UWI')\n",
    "    features.remove('lifetime_start')\n",
    "    features.remove('lifetime_end')\n",
    "\n",
    "    X = np.array(this_data[features])\n",
    "    y = np.array(this_data['FAILURETYPE'])\n",
    "\n",
    "    knn = KNeighborsClassifier(n_neighbors=K_VALUES)\n",
    "    this_score = cross_val_score(knn, X, y, cv=8, scoring='roc_auc_ovo')\n",
    "    \n",
    "    return this_score.mean()"
   ]
  },
  {
   "cell_type": "code",
   "execution_count": 41,
   "metadata": {
    "scrolled": true
   },
   "outputs": [
    {
     "name": "stdout",
     "output_type": "stream",
     "text": [
      "Best accuracy is 0.6493506493506493 at 56.\n"
     ]
    },
    {
     "data": {
      "text/plain": [
       "<AxesSubplot:>"
      ]
     },
     "execution_count": 41,
     "metadata": {},
     "output_type": "execute_result"
    },
    {
     "data": {
      "image/png": "[encoded data removed]",
      "text/plain": [
       "<Figure size 432x288 with 2 Axes>"
      ]
     },
     "metadata": {
      "needs_background": "light"
     },
     "output_type": "display_data"
    }
   ],
   "source": [
    "# MAIN PROGRAM FOR SVC ITERATION\n",
    "max_result = 0\n",
    "\n",
    "for this_column_drop_threshold in range(1, 100, 5):\n",
    "    try:\n",
    "        this_result = run_svc_iteration(raw_data, this_column_drop_threshold/100, 0)\n",
    "    except:\n",
    "        # print(\"Iteration with drop threshold \" + str(this_column_drop_threshold) + \" and k values \" + str(this_k_values) + \" failed.\")\n",
    "        continue\n",
    "    if (this_result > max_result):\n",
    "        max_result = this_result\n",
    "        max_threshold = this_column_drop_threshold\n",
    "        \n",
    "print(\"Best accuracy is \" + str(max_result) + \" at \" + str(max_threshold) + \".\")\n",
    "\n",
    "# Print Confusion Matrix\n",
    "\n",
    "from sklearn.model_selection import cross_val_predict\n",
    "from sklearn.metrics import confusion_matrix\n",
    "from sklearn.metrics import roc_auc_score\n",
    "\n",
    "this_data = generate_candidate_dataset(raw_data, max_threshold/100, 0)\n",
    "\n",
    "for column in this_data:\n",
    "    if (column in categorical_columns):\n",
    "        encode(this_data, column)\n",
    "            \n",
    "features = list(this_data)\n",
    "features.remove('FAILURETYPE')\n",
    "features.remove('roduid')\n",
    "features.remove('UWI')\n",
    "features.remove('lifetime_start')\n",
    "features.remove('lifetime_end')\n",
    "\n",
    "X = np.array(this_data[features])\n",
    "y = np.array(this_data['FAILURETYPE'])\n",
    "\n",
    "svc = SVC(gamma='auto')\n",
    "y_pred = cross_val_predict(svc, X, y, cv=5)\n",
    "\n",
    "conf_mat = confusion_matrix(y, y_pred)\n",
    "sns.heatmap(conf_mat, annot=True)"
   ]
  },
  {
   "cell_type": "code",
   "execution_count": 47,
   "metadata": {},
   "outputs": [
    {
     "data": {
      "text/plain": [
       "<AxesSubplot:>"
      ]
     },
     "execution_count": 47,
     "metadata": {},
     "output_type": "execute_result"
    },
    {
     "data": {
      "image/png": "[encoded data removed]",
      "text/plain": [
       "<Figure size 432x288 with 2 Axes>"
      ]
     },
     "metadata": {
      "needs_background": "light"
     },
     "output_type": "display_data"
    }
   ],
   "source": [
    "from sklearn.model_selection import cross_val_predict\n",
    "from sklearn.metrics import confusion_matrix\n",
    "from sklearn.metrics import roc_auc_score\n",
    "\n",
    "this_data = generate_candidate_dataset(raw_data, 50/100, 0)\n",
    "\n",
    "for column in this_data:\n",
    "    if (column in categorical_columns):\n",
    "        encode(this_data, column)\n",
    "            \n",
    "features = list(this_data)\n",
    "features.remove('FAILURETYPE')\n",
    "features.remove('roduid')\n",
    "features.remove('UWI')\n",
    "features.remove('lifetime_start')\n",
    "features.remove('lifetime_end')\n",
    "\n",
    "X = np.array(this_data[features])\n",
    "y = np.array(this_data['FAILURETYPE'])\n",
    "\n",
    "svc = SVC(gamma='auto')\n",
    "y_pred = cross_val_predict(svc, X, y, cv=5)\n",
    "\n",
    "conf_mat = confusion_matrix(y, y_pred)\n",
    "sns.heatmap(conf_mat, annot=True)"
   ]
  },
  {
   "cell_type": "code",
   "execution_count": 42,
   "metadata": {
    "scrolled": true
   },
   "outputs": [
    {
     "name": "stdout",
     "output_type": "stream",
     "text": [
      "Best accuracy is 0.6451077837850943 at 6 and k=48.\n"
     ]
    },
    {
     "data": {
      "text/plain": [
       "<AxesSubplot:>"
      ]
     },
     "execution_count": 42,
     "metadata": {},
     "output_type": "execute_result"
    },
    {
     "data": {
      "image/png": "[encoded data removed]",
      "text/plain": [
       "<Figure size 432x288 with 2 Axes>"
      ]
     },
     "metadata": {
      "needs_background": "light"
     },
     "output_type": "display_data"
    }
   ],
   "source": [
    "# MAIN PROGRAM FOR KNN ITERATION\n",
    "max_result = 0\n",
    "\n",
    "for this_column_drop_threshold in range(1, 100, 5):\n",
    "    for this_k_values in range(1, 100, 1):\n",
    "        try:\n",
    "            this_result = run_knn_iteration(raw_data, this_column_drop_threshold/100, 0, this_k_values)\n",
    "        except:\n",
    "           # print(\"Iteration with drop threshold \" + str(this_column_drop_threshold) + \" and k values \" + str(this_k_values) + \" failed.\")\n",
    "           continue\n",
    "        if (this_result > max_result):\n",
    "            max_result = this_result\n",
    "            max_threshold = this_column_drop_threshold\n",
    "            max_k_values = this_k_values\n",
    "        \n",
    "print(\"Best accuracy is \" + str(max_result) + \" at \" + str(max_threshold) + \" and k=\" + str(max_k_values) + \".\")\n",
    "\n",
    "# Print Confusion Matrix\n",
    "\n",
    "from sklearn.model_selection import cross_val_predict\n",
    "from sklearn.metrics import confusion_matrix\n",
    "from sklearn.metrics import roc_auc_score\n",
    "\n",
    "this_data = generate_candidate_dataset(raw_data, .45, 0)\n",
    "\n",
    "for column in this_data:\n",
    "    if (column in categorical_columns):\n",
    "        encode(this_data, column)\n",
    "            \n",
    "features = list(this_data)\n",
    "features.remove('FAILURETYPE')\n",
    "features.remove('roduid')\n",
    "features.remove('UWI')\n",
    "features.remove('lifetime_start')\n",
    "features.remove('lifetime_end')\n",
    "\n",
    "X = np.array(this_data[features])\n",
    "y = np.array(this_data['FAILURETYPE'])\n",
    "\n",
    "knn = KNeighborsClassifier(n_neighbors=max_k_values)\n",
    "y_pred = cross_val_predict(knn, X, y, cv=5)\n",
    "\n",
    "conf_mat = confusion_matrix(y, y_pred)\n",
    "sns.heatmap(conf_mat, annot=True)"
   ]
  },
  {
   "cell_type": "code",
   "execution_count": 49,
   "metadata": {},
   "outputs": [
    {
     "data": {
      "text/plain": [
       "Tubing             0.559778\n",
       "Sucker Rod Pump    0.305622\n",
       "Rods               0.134600\n",
       "Name: FAILURETYPE, dtype: float64"
      ]
     },
     "execution_count": 49,
     "metadata": {},
     "output_type": "execute_result"
    }
   ],
   "source": [
    "this_data = generate_candidate_dataset(raw_data, .25, 0)\n",
    "this_data['FAILURETYPE'].value_counts()/this_data['FAILURETYPE'].count()"
   ]
  }
 ],
 "metadata": {
  "kernelspec": {
   "display_name": "Python 3",
   "language": "python",
   "name": "python3"
  },
  "language_info": {
   "codemirror_mode": {
    "name": "ipython",
    "version": 3
   },
   "file_extension": ".py",
   "mimetype": "text/x-python",
   "name": "python",
   "nbconvert_exporter": "python",
   "pygments_lexer": "ipython3",
   "version": "3.6.9"
  }
 },
 "nbformat": 4,
 "nbformat_minor": 4
}
