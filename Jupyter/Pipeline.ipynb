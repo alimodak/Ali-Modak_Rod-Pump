{
 "cells": [
  {
   "cell_type": "code",
   "execution_count": 1,
   "metadata": {},
   "outputs": [],
   "source": [
    "import pandas as pd\n",
    "import numpy as np\n",
    "import seaborn as sns"
   ]
  },
  {
   "cell_type": "code",
   "execution_count": 2,
   "metadata": {},
   "outputs": [],
   "source": [
    "raw_data = pd.read_csv('../data/transformed_raw.csv', parse_dates=['lifetime_start','lifetime_end'])"
   ]
  },
  {
   "cell_type": "code",
   "execution_count": 3,
   "metadata": {},
   "outputs": [],
   "source": [
    "def getPercentNull(df, columnName):\n",
    "    return df[columnName].isnull().sum() / (df[columnName].notnull().sum() + df[columnName].isnull().sum())"
   ]
  },
  {
   "cell_type": "code",
   "execution_count": 17,
   "metadata": {},
   "outputs": [],
   "source": [
    "from sklearn.preprocessing import LabelEncoder\n",
    "\n",
    "def encode(df, column):\n",
    "    le = LabelEncoder()\n",
    "    df[column] = le.fit_transform(df[column])\n",
    "    \n",
    "    # classes = list(le.classes_)\n",
    "    # print(column + \":\")\n",
    "    # for key in range(len(classes)):\n",
    "        # print('[' + str(key) + '] ' + str(classes[key]))\n",
    "    # print('')\n",
    "    return df"
   ]
  },
  {
   "cell_type": "code",
   "execution_count": 5,
   "metadata": {},
   "outputs": [],
   "source": [
    "def generate_candidate_dataset(data_in, COLUMN_DROP_THRESHOLD, COLUMN_IMPUTE_THRESHOLD):\n",
    "    this_data = data_in.copy()\n",
    "    for column in this_data:\n",
    "        this_percent_null = getPercentNull(this_data, column)\n",
    "    \n",
    "        if (this_percent_null >= COLUMN_DROP_THRESHOLD):\n",
    "            del this_data[column]\n",
    "        elif (this_percent_null >= COLUMN_IMPUTE_THRESHOLD):\n",
    "            this_data.dropna(subset=[column], axis=0, inplace=True)\n",
    "        else:\n",
    "            # ADD IMPUTE FUNCTION HERE\n",
    "            pass\n",
    "\n",
    "    return this_data"
   ]
  },
  {
   "cell_type": "code",
   "execution_count": 6,
   "metadata": {},
   "outputs": [],
   "source": [
    "categorical_columns = ['bha_configuration',\n",
    "                      'wellbore_category',\n",
    "                       'packer_vs_tac',\n",
    "                       'rod_sinker_type',\n",
    "                       'manual_scale',\n",
    "                       'rod_make',\n",
    "                       'rod_apigrade',\n",
    "                       'DESANDDEGAS_TYP',\n",
    "                       'rod_has_guides',\n",
    "                       'FAILURETYPE'\n",
    "                      ]"
   ]
  },
  {
   "cell_type": "code",
   "execution_count": 9,
   "metadata": {},
   "outputs": [],
   "source": [
    "from sklearn.model_selection import train_test_split\n",
    "from sklearn.svm import SVC\n",
    "from sklearn import metrics"
   ]
  },
  {
   "cell_type": "code",
   "execution_count": 14,
   "metadata": {},
   "outputs": [],
   "source": [
    "def run_iteration(df, COLUMN_DROP_THRESHOLD, COLUMN_IMPUTE_THRESHOLD):\n",
    "\n",
    "    this_data = generate_candidate_dataset(df, COLUMN_DROP_THRESHOLD, COLUMN_IMPUTE_THRESHOLD)\n",
    "\n",
    "    for column in this_data:\n",
    "        if (column in categorical_columns):\n",
    "            encode(this_data, column)\n",
    "\n",
    "    features = list(this_data)\n",
    "    features.remove('FAILURETYPE')\n",
    "    features.remove('roduid')\n",
    "    features.remove('UWI')\n",
    "    features.remove('lifetime_start')\n",
    "    features.remove('lifetime_end')\n",
    "\n",
    "    X = np.array(this_data[features])\n",
    "    y = np.array(this_data['FAILURETYPE'])\n",
    "\n",
    "    X_train, X_test, y_train, y_test = train_test_split(X, y, test_size=0.2, random_state=42)\n",
    "    reg_svc = SVC()\n",
    "    reg_svc.fit(X_train, y_train)\n",
    "    y_pred = reg_svc.predict(X_test)\n",
    "    return metrics.accuracy_score(y_test, y_pred)"
   ]
  },
  {
   "cell_type": "code",
   "execution_count": 29,
   "metadata": {},
   "outputs": [
    {
     "name": "stdout",
     "output_type": "stream",
     "text": [
      "Iteration with threshold 99 failed.\n",
      "Best accuracy is 0.6493506493506493 at 55.\n"
     ]
    }
   ],
   "source": [
    "max_result = 0\n",
    "\n",
    "for this_threshold in range(1,100,1):\n",
    "    try:\n",
    "        this_result = run_iteration(raw_data, this_threshold/100, 0)\n",
    "    except:\n",
    "        print(\"Iteration with threshold \" + str(this_threshold) + \" failed.\")\n",
    "        continue\n",
    "    if (this_result > max_result):\n",
    "        max_result = this_result\n",
    "        max_threshold = this_threshold\n",
    "        \n",
    "print(\"Best accuracy is \" + str(max_result) + \" at \" + str(max_threshold) + \".\")"
   ]
  }
 ],
 "metadata": {
  "kernelspec": {
   "display_name": "Python 3",
   "language": "python",
   "name": "python3"
  },
  "language_info": {
   "codemirror_mode": {
    "name": "ipython",
    "version": 3
   },
   "file_extension": ".py",
   "mimetype": "text/x-python",
   "name": "python",
   "nbconvert_exporter": "python",
   "pygments_lexer": "ipython3",
   "version": "3.6.9"
  }
 },
 "nbformat": 4,
 "nbformat_minor": 4
}
