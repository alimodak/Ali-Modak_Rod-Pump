{
 "cells": [
  {
   "cell_type": "code",
   "execution_count": 2,
   "metadata": {},
   "outputs": [],
   "source": [
    "import pandas as pd"
   ]
  },
  {
   "cell_type": "code",
   "execution_count": 3,
   "metadata": {},
   "outputs": [],
   "source": [
    "raw_data = pd.read_csv('../data/transformed_raw.csv', parse_dates=['lifetime_start','lifetime_end'])"
   ]
  },
  {
   "cell_type": "code",
   "execution_count": 6,
   "metadata": {},
   "outputs": [],
   "source": [
    "def getPercentNull(df, columnName):\n",
    "    return df[columnName].isnull().sum() / (df[columnName].notnull().sum() + df[columnName].isnull().sum())"
   ]
  },
  {
   "cell_type": "code",
   "execution_count": 5,
   "metadata": {},
   "outputs": [
    {
     "name": "stdout",
     "output_type": "stream",
     "text": [
      "['roduid', 'UWI', 'FAILURETYPE', 'bha_configuration', 'wellbore_category', 'manual_scale', 'packer_vs_tac', 'rod_sinker_type', 'rod_make', 'rod_apigrade', 'DESANDDEGAS_TYP']\n"
     ]
    }
   ],
   "source": [
    "cat_columns = [col for col in raw_data if raw_data[col].dtypes == 'O']\n",
    "print(cat_columns)"
   ]
  },
  {
   "cell_type": "code",
   "execution_count": 10,
   "metadata": {},
   "outputs": [
    {
     "name": "stdout",
     "output_type": "stream",
     "text": [
      "[bha_configuration] 0.017\n",
      "[wellbore_category] 0.002\n",
      "[packer_vs_tac] 0.014\n"
     ]
    }
   ],
   "source": [
    "for col in cat_columns:\n",
    "    this_percent_null = round(getPercentNull(raw_data, col),3)\n",
    "    if ( this_percent_null > 0 ):\n",
    "        print(\"[\" + col + \"] \" + str(this_percent_null))"
   ]
  }
 ],
 "metadata": {
  "kernelspec": {
   "display_name": "Python 3",
   "language": "python",
   "name": "python3"
  },
  "language_info": {
   "codemirror_mode": {
    "name": "ipython",
    "version": 3
   },
   "file_extension": ".py",
   "mimetype": "text/x-python",
   "name": "python",
   "nbconvert_exporter": "python",
   "pygments_lexer": "ipython3",
   "version": "3.6.9"
  }
 },
 "nbformat": 4,
 "nbformat_minor": 4
}
